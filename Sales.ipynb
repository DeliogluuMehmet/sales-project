{
 "cells": [
  {
   "cell_type": "code",
   "execution_count": 1,
   "metadata": {},
   "outputs": [],
   "source": [
    "import pandas as pd\n",
    "import numpy as np \n",
    "import matplotlib.pyplot as plt\n",
    "import seaborn as sns \n",
    "import time\n",
    "import datetime as dt\n",
    "from datetime import datetime"
   ]
  },
  {
   "cell_type": "code",
   "execution_count": 2,
   "metadata": {},
   "outputs": [
    {
     "data": {
      "text/html": [
       "<div>\n",
       "<style scoped>\n",
       "    .dataframe tbody tr th:only-of-type {\n",
       "        vertical-align: middle;\n",
       "    }\n",
       "\n",
       "    .dataframe tbody tr th {\n",
       "        vertical-align: top;\n",
       "    }\n",
       "\n",
       "    .dataframe thead th {\n",
       "        text-align: right;\n",
       "    }\n",
       "</style>\n",
       "<table border=\"1\" class=\"dataframe\">\n",
       "  <thead>\n",
       "    <tr style=\"text-align: right;\">\n",
       "      <th></th>\n",
       "      <th>LOGICALREF</th>\n",
       "      <th>COUNT_</th>\n",
       "      <th>TARGET_</th>\n",
       "      <th>ITEMCODE</th>\n",
       "      <th>ITEMNAME</th>\n",
       "      <th>FICHENO</th>\n",
       "      <th>DATE_</th>\n",
       "      <th>AMOUNT</th>\n",
       "      <th>PRICE</th>\n",
       "      <th>LINETOTAL</th>\n",
       "      <th>...</th>\n",
       "      <th>CATEGORY_CODE3</th>\n",
       "      <th>CATEGORY_NAME3</th>\n",
       "      <th>CATEGORY_CODE4</th>\n",
       "      <th>CATEGORY_NAME4</th>\n",
       "      <th>STARTDATE</th>\n",
       "      <th>ENDDATE</th>\n",
       "      <th>CLIENTGENDER</th>\n",
       "      <th>CLIENTBIRTHDATE</th>\n",
       "      <th>BUYINGPRICE</th>\n",
       "      <th>COST</th>\n",
       "    </tr>\n",
       "  </thead>\n",
       "  <tbody>\n",
       "    <tr>\n",
       "      <th>0</th>\n",
       "      <td>1</td>\n",
       "      <td>1</td>\n",
       "      <td>6697.0</td>\n",
       "      <td>8</td>\n",
       "      <td>TOZ SEKER</td>\n",
       "      <td>17258</td>\n",
       "      <td>2017-01-02</td>\n",
       "      <td>2.000</td>\n",
       "      <td>2.65</td>\n",
       "      <td>5.30</td>\n",
       "      <td>...</td>\n",
       "      <td>005.002.4</td>\n",
       "      <td>SEKER TATLANDIRICI</td>\n",
       "      <td>005.002.4.1</td>\n",
       "      <td>TOZ ŞEKER</td>\n",
       "      <td>2017-01-03 09:25:03</td>\n",
       "      <td>2017-01-03 09:25:43</td>\n",
       "      <td>K</td>\n",
       "      <td>1973-06-21</td>\n",
       "      <td>1.987500</td>\n",
       "      <td>3.675</td>\n",
       "    </tr>\n",
       "    <tr>\n",
       "      <th>1</th>\n",
       "      <td>2</td>\n",
       "      <td>1</td>\n",
       "      <td>6697.0</td>\n",
       "      <td>20868</td>\n",
       "      <td>KIRMIZI MERCIMEK</td>\n",
       "      <td>17258</td>\n",
       "      <td>2017-01-02</td>\n",
       "      <td>1.006</td>\n",
       "      <td>2.80</td>\n",
       "      <td>2.82</td>\n",
       "      <td>...</td>\n",
       "      <td>004.001.2</td>\n",
       "      <td>AÇIK BAKLİYAT</td>\n",
       "      <td>NaN</td>\n",
       "      <td>NaN</td>\n",
       "      <td>2017-01-03 09:25:03</td>\n",
       "      <td>2017-01-03 09:25:43</td>\n",
       "      <td>K</td>\n",
       "      <td>1973-06-21</td>\n",
       "      <td>2.100000</td>\n",
       "      <td>2.092</td>\n",
       "    </tr>\n",
       "    <tr>\n",
       "      <th>2</th>\n",
       "      <td>3</td>\n",
       "      <td>1</td>\n",
       "      <td>6697.0</td>\n",
       "      <td>8583</td>\n",
       "      <td>TEST MATIK 1,5 KG NORMAL</td>\n",
       "      <td>17258</td>\n",
       "      <td>2017-01-02</td>\n",
       "      <td>1.000</td>\n",
       "      <td>4.95</td>\n",
       "      <td>4.95</td>\n",
       "      <td>...</td>\n",
       "      <td>006.001.6</td>\n",
       "      <td>TOZ DETERJAN</td>\n",
       "      <td>NaN</td>\n",
       "      <td>NaN</td>\n",
       "      <td>2017-01-03 09:25:03</td>\n",
       "      <td>2017-01-03 09:25:43</td>\n",
       "      <td>K</td>\n",
       "      <td>1973-06-21</td>\n",
       "      <td>3.712500</td>\n",
       "      <td>3.143</td>\n",
       "    </tr>\n",
       "    <tr>\n",
       "      <th>3</th>\n",
       "      <td>4</td>\n",
       "      <td>1</td>\n",
       "      <td>6697.0</td>\n",
       "      <td>1454</td>\n",
       "      <td>BIZIM MAKARNA BONCUK</td>\n",
       "      <td>17258</td>\n",
       "      <td>2017-01-02</td>\n",
       "      <td>1.000</td>\n",
       "      <td>1.10</td>\n",
       "      <td>1.10</td>\n",
       "      <td>...</td>\n",
       "      <td>004.002.1</td>\n",
       "      <td>MAKARNA</td>\n",
       "      <td>NaN</td>\n",
       "      <td>NaN</td>\n",
       "      <td>2017-01-03 09:25:03</td>\n",
       "      <td>2017-01-03 09:25:43</td>\n",
       "      <td>K</td>\n",
       "      <td>1973-06-21</td>\n",
       "      <td>0.825000</td>\n",
       "      <td>0.765</td>\n",
       "    </tr>\n",
       "    <tr>\n",
       "      <th>4</th>\n",
       "      <td>5</td>\n",
       "      <td>1</td>\n",
       "      <td>6697.0</td>\n",
       "      <td>13519</td>\n",
       "      <td>FILIZ MAKARNA KISA KESME 500 GR</td>\n",
       "      <td>17258</td>\n",
       "      <td>2017-01-02</td>\n",
       "      <td>1.000</td>\n",
       "      <td>1.10</td>\n",
       "      <td>1.10</td>\n",
       "      <td>...</td>\n",
       "      <td>004.002.1</td>\n",
       "      <td>MAKARNA</td>\n",
       "      <td>NaN</td>\n",
       "      <td>NaN</td>\n",
       "      <td>2017-01-03 09:25:03</td>\n",
       "      <td>2017-01-03 09:25:43</td>\n",
       "      <td>K</td>\n",
       "      <td>1973-06-21</td>\n",
       "      <td>0.836111</td>\n",
       "      <td>0.775</td>\n",
       "    </tr>\n",
       "  </tbody>\n",
       "</table>\n",
       "<p>5 rows × 37 columns</p>\n",
       "</div>"
      ],
      "text/plain": [
       "   LOGICALREF  COUNT_  TARGET_  ITEMCODE                         ITEMNAME  \\\n",
       "0           1       1   6697.0         8                        TOZ SEKER   \n",
       "1           2       1   6697.0     20868                 KIRMIZI MERCIMEK   \n",
       "2           3       1   6697.0      8583         TEST MATIK 1,5 KG NORMAL   \n",
       "3           4       1   6697.0      1454             BIZIM MAKARNA BONCUK   \n",
       "4           5       1   6697.0     13519  FILIZ MAKARNA KISA KESME 500 GR   \n",
       "\n",
       "   FICHENO      DATE_  AMOUNT  PRICE  LINETOTAL  ...  CATEGORY_CODE3  \\\n",
       "0    17258 2017-01-02   2.000   2.65       5.30  ...       005.002.4   \n",
       "1    17258 2017-01-02   1.006   2.80       2.82  ...       004.001.2   \n",
       "2    17258 2017-01-02   1.000   4.95       4.95  ...       006.001.6   \n",
       "3    17258 2017-01-02   1.000   1.10       1.10  ...       004.002.1   \n",
       "4    17258 2017-01-02   1.000   1.10       1.10  ...       004.002.1   \n",
       "\n",
       "       CATEGORY_NAME3 CATEGORY_CODE4 CATEGORY_NAME4           STARTDATE  \\\n",
       "0  SEKER TATLANDIRICI    005.002.4.1      TOZ ŞEKER 2017-01-03 09:25:03   \n",
       "1       AÇIK BAKLİYAT            NaN            NaN 2017-01-03 09:25:03   \n",
       "2        TOZ DETERJAN            NaN            NaN 2017-01-03 09:25:03   \n",
       "3            MAKARNA             NaN            NaN 2017-01-03 09:25:03   \n",
       "4            MAKARNA             NaN            NaN 2017-01-03 09:25:03   \n",
       "\n",
       "              ENDDATE  CLIENTGENDER  CLIENTBIRTHDATE BUYINGPRICE   COST  \n",
       "0 2017-01-03 09:25:43             K       1973-06-21    1.987500  3.675  \n",
       "1 2017-01-03 09:25:43             K       1973-06-21    2.100000  2.092  \n",
       "2 2017-01-03 09:25:43             K       1973-06-21    3.712500  3.143  \n",
       "3 2017-01-03 09:25:43             K       1973-06-21    0.825000  0.765  \n",
       "4 2017-01-03 09:25:43             K       1973-06-21    0.836111  0.775  \n",
       "\n",
       "[5 rows x 37 columns]"
      ]
     },
     "execution_count": 2,
     "metadata": {},
     "output_type": "execute_result"
    }
   ],
   "source": [
    "data = pd.read_excel(\"Sales.xlsx\")\n",
    "data = data.copy()\n",
    "data.head()"
   ]
  },
  {
   "cell_type": "code",
   "execution_count": 3,
   "metadata": {},
   "outputs": [
    {
     "name": "stdout",
     "output_type": "stream",
     "text": [
      "<class 'pandas.core.frame.DataFrame'>\n",
      "RangeIndex: 602983 entries, 0 to 602982\n",
      "Data columns (total 37 columns):\n",
      " #   Column           Non-Null Count   Dtype         \n",
      "---  ------           --------------   -----         \n",
      " 0   LOGICALREF       602983 non-null  int64         \n",
      " 1   COUNT_           602983 non-null  int64         \n",
      " 2   TARGET_          380132 non-null  float64       \n",
      " 3   ITEMCODE         602983 non-null  int64         \n",
      " 4   ITEMNAME         602983 non-null  object        \n",
      " 5   FICHENO          602983 non-null  int64         \n",
      " 6   DATE_            602983 non-null  datetime64[ns]\n",
      " 7   AMOUNT           602983 non-null  float64       \n",
      " 8   PRICE            602983 non-null  float64       \n",
      " 9   LINETOTAL        602983 non-null  float64       \n",
      " 10  LINENET          602983 non-null  float64       \n",
      " 11  BRANCHNR         602983 non-null  int64         \n",
      " 12  BRANCH           602983 non-null  object        \n",
      " 13  SALESMAN         602983 non-null  object        \n",
      " 14  CITY             602983 non-null  object        \n",
      " 15  REGION           602983 non-null  object        \n",
      " 16  LATITUDE         602983 non-null  float64       \n",
      " 17  LONGITUDE        602983 non-null  float64       \n",
      " 18  CLIENTNAME       602983 non-null  object        \n",
      " 19  BRANDCODE        574595 non-null  object        \n",
      " 20  BRAND            574595 non-null  object        \n",
      " 21  CATEGORY         602983 non-null  object        \n",
      " 22  CATEGORYCODE     602983 non-null  object        \n",
      " 23  CATEGORY_CODE1   602983 non-null  int64         \n",
      " 24  CATEGORY_NAME1   602983 non-null  object        \n",
      " 25  CATEGORY_CODE2   582492 non-null  object        \n",
      " 26  CATEGORY_NAME2   582492 non-null  object        \n",
      " 27  CATEGORY_CODE3   400695 non-null  object        \n",
      " 28  CATEGORY_NAME3   400695 non-null  object        \n",
      " 29  CATEGORY_CODE4   36104 non-null   object        \n",
      " 30  CATEGORY_NAME4   36104 non-null   object        \n",
      " 31  STARTDATE        602983 non-null  datetime64[ns]\n",
      " 32  ENDDATE          602983 non-null  datetime64[ns]\n",
      " 33  CLIENTGENDER     602983 non-null  object        \n",
      " 34  CLIENTBIRTHDATE  602983 non-null  object        \n",
      " 35  BUYINGPRICE      602983 non-null  float64       \n",
      " 36  COST             602983 non-null  float64       \n",
      "dtypes: datetime64[ns](3), float64(9), int64(6), object(19)\n",
      "memory usage: 170.2+ MB\n"
     ]
    }
   ],
   "source": [
    "data.info()"
   ]
  },
  {
   "cell_type": "code",
   "execution_count": 4,
   "metadata": {},
   "outputs": [
    {
     "data": {
      "text/plain": [
       "LOGICALREF              0\n",
       "COUNT_                  0\n",
       "TARGET_            222851\n",
       "ITEMCODE                0\n",
       "ITEMNAME                0\n",
       "FICHENO                 0\n",
       "DATE_                   0\n",
       "AMOUNT                  0\n",
       "PRICE                   0\n",
       "LINETOTAL               0\n",
       "LINENET                 0\n",
       "BRANCHNR                0\n",
       "BRANCH                  0\n",
       "SALESMAN                0\n",
       "CITY                    0\n",
       "REGION                  0\n",
       "LATITUDE                0\n",
       "LONGITUDE               0\n",
       "CLIENTNAME              0\n",
       "BRANDCODE           28388\n",
       "BRAND               28388\n",
       "CATEGORY                0\n",
       "CATEGORYCODE            0\n",
       "CATEGORY_CODE1          0\n",
       "CATEGORY_NAME1          0\n",
       "CATEGORY_CODE2      20491\n",
       "CATEGORY_NAME2      20491\n",
       "CATEGORY_CODE3     202288\n",
       "CATEGORY_NAME3     202288\n",
       "CATEGORY_CODE4     566879\n",
       "CATEGORY_NAME4     566879\n",
       "STARTDATE               0\n",
       "ENDDATE                 0\n",
       "CLIENTGENDER            0\n",
       "CLIENTBIRTHDATE         0\n",
       "BUYINGPRICE             0\n",
       "COST                    0\n",
       "dtype: int64"
      ]
     },
     "execution_count": 4,
     "metadata": {},
     "output_type": "execute_result"
    }
   ],
   "source": [
    "data.isna().sum()"
   ]
  },
  {
   "cell_type": "markdown",
   "metadata": {},
   "source": [
    "#### Top Selling Cashiers"
   ]
  },
  {
   "cell_type": "code",
   "execution_count": 5,
   "metadata": {},
   "outputs": [
    {
     "data": {
      "text/plain": [
       "<matplotlib.axes._subplots.AxesSubplot at 0x2df274b8970>"
      ]
     },
     "execution_count": 5,
     "metadata": {},
     "output_type": "execute_result"
    },
    {
     "data": {
      "image/png": "[encoded data removed]",
      "text/plain": [
       "<Figure size 432x288 with 1 Axes>"
      ]
     },
     "metadata": {
      "needs_background": "light"
     },
     "output_type": "display_data"
    }
   ],
   "source": [
    "people = data.SALESMAN.value_counts()\n",
    "people2 = people.head(10)\n",
    "if len(people) < 10:\n",
    "    people2['remaining {0} items'.format(len(people) - 10)] = sum(people[10:])\n",
    "people2.plot(kind='bar')"
   ]
  },
  {
   "cell_type": "markdown",
   "metadata": {},
   "source": [
    "#### Top selling days of the week"
   ]
  },
  {
   "cell_type": "code",
   "execution_count": 6,
   "metadata": {},
   "outputs": [
    {
     "data": {
      "text/plain": [
       "0    0\n",
       "1    0\n",
       "2    0\n",
       "3    0\n",
       "4    0\n",
       "Name: DATE_, dtype: int64"
      ]
     },
     "execution_count": 6,
     "metadata": {},
     "output_type": "execute_result"
    }
   ],
   "source": [
    "date = data[\"DATE_\"].dt.dayofweek\n",
    "date.head()"
   ]
  },
  {
   "cell_type": "code",
   "execution_count": 7,
   "metadata": {},
   "outputs": [
    {
     "data": {
      "text/plain": [
       "2239195.5500000003"
      ]
     },
     "execution_count": 7,
     "metadata": {},
     "output_type": "execute_result"
    }
   ],
   "source": [
    "line_sum = data[\"LINENET\"].sum()\n",
    "line_sum"
   ]
  },
  {
   "cell_type": "code",
   "execution_count": 8,
   "metadata": {},
   "outputs": [],
   "source": [
    "data[\"Day_Of_Week\"] = date"
   ]
  },
  {
   "cell_type": "code",
   "execution_count": 9,
   "metadata": {},
   "outputs": [
    {
     "data": {
      "text/html": [
       "<div>\n",
       "<style scoped>\n",
       "    .dataframe tbody tr th:only-of-type {\n",
       "        vertical-align: middle;\n",
       "    }\n",
       "\n",
       "    .dataframe tbody tr th {\n",
       "        vertical-align: top;\n",
       "    }\n",
       "\n",
       "    .dataframe thead th {\n",
       "        text-align: right;\n",
       "    }\n",
       "</style>\n",
       "<table border=\"1\" class=\"dataframe\">\n",
       "  <thead>\n",
       "    <tr style=\"text-align: right;\">\n",
       "      <th></th>\n",
       "      <th></th>\n",
       "      <th>LOGICALREF</th>\n",
       "      <th>COUNT_</th>\n",
       "      <th>TARGET_</th>\n",
       "      <th>ITEMCODE</th>\n",
       "      <th>FICHENO</th>\n",
       "      <th>AMOUNT</th>\n",
       "      <th>PRICE</th>\n",
       "      <th>LINETOTAL</th>\n",
       "      <th>BRANCHNR</th>\n",
       "      <th>LATITUDE</th>\n",
       "      <th>LONGITUDE</th>\n",
       "      <th>CATEGORY_CODE1</th>\n",
       "      <th>BUYINGPRICE</th>\n",
       "      <th>COST</th>\n",
       "    </tr>\n",
       "    <tr>\n",
       "      <th>LINENET</th>\n",
       "      <th>Day_Of_Week</th>\n",
       "      <th></th>\n",
       "      <th></th>\n",
       "      <th></th>\n",
       "      <th></th>\n",
       "      <th></th>\n",
       "      <th></th>\n",
       "      <th></th>\n",
       "      <th></th>\n",
       "      <th></th>\n",
       "      <th></th>\n",
       "      <th></th>\n",
       "      <th></th>\n",
       "      <th></th>\n",
       "      <th></th>\n",
       "    </tr>\n",
       "  </thead>\n",
       "  <tbody>\n",
       "    <tr>\n",
       "      <th rowspan=\"5\" valign=\"top\">0.01</th>\n",
       "      <th>1</th>\n",
       "      <td>423019</td>\n",
       "      <td>5</td>\n",
       "      <td>38287.0</td>\n",
       "      <td>42316</td>\n",
       "      <td>186830</td>\n",
       "      <td>0.012</td>\n",
       "      <td>20.40</td>\n",
       "      <td>0.05</td>\n",
       "      <td>127</td>\n",
       "      <td>194.3348</td>\n",
       "      <td>160.6951</td>\n",
       "      <td>20</td>\n",
       "      <td>18.135997</td>\n",
       "      <td>0.043</td>\n",
       "    </tr>\n",
       "    <tr>\n",
       "      <th>2</th>\n",
       "      <td>1084001</td>\n",
       "      <td>6</td>\n",
       "      <td>386244.0</td>\n",
       "      <td>64784</td>\n",
       "      <td>357384</td>\n",
       "      <td>0.010</td>\n",
       "      <td>34.60</td>\n",
       "      <td>0.06</td>\n",
       "      <td>214</td>\n",
       "      <td>236.9772</td>\n",
       "      <td>227.9606</td>\n",
       "      <td>24</td>\n",
       "      <td>28.785997</td>\n",
       "      <td>0.052</td>\n",
       "    </tr>\n",
       "    <tr>\n",
       "      <th>3</th>\n",
       "      <td>22521</td>\n",
       "      <td>3</td>\n",
       "      <td>218222.0</td>\n",
       "      <td>16086</td>\n",
       "      <td>57943</td>\n",
       "      <td>0.008</td>\n",
       "      <td>13.20</td>\n",
       "      <td>0.03</td>\n",
       "      <td>134</td>\n",
       "      <td>118.4677</td>\n",
       "      <td>99.9344</td>\n",
       "      <td>12</td>\n",
       "      <td>12.026998</td>\n",
       "      <td>0.027</td>\n",
       "    </tr>\n",
       "    <tr>\n",
       "      <th>5</th>\n",
       "      <td>2080491</td>\n",
       "      <td>6</td>\n",
       "      <td>164582.0</td>\n",
       "      <td>33500</td>\n",
       "      <td>590888</td>\n",
       "      <td>0.014</td>\n",
       "      <td>24.00</td>\n",
       "      <td>0.06</td>\n",
       "      <td>154</td>\n",
       "      <td>232.8422</td>\n",
       "      <td>202.8362</td>\n",
       "      <td>12</td>\n",
       "      <td>20.456706</td>\n",
       "      <td>0.052</td>\n",
       "    </tr>\n",
       "    <tr>\n",
       "      <th>6</th>\n",
       "      <td>1041345</td>\n",
       "      <td>2</td>\n",
       "      <td>0.0</td>\n",
       "      <td>7772</td>\n",
       "      <td>277454</td>\n",
       "      <td>0.002</td>\n",
       "      <td>13.90</td>\n",
       "      <td>0.02</td>\n",
       "      <td>156</td>\n",
       "      <td>76.9782</td>\n",
       "      <td>86.8178</td>\n",
       "      <td>4</td>\n",
       "      <td>10.286321</td>\n",
       "      <td>0.014</td>\n",
       "    </tr>\n",
       "    <tr>\n",
       "      <th>...</th>\n",
       "      <th>...</th>\n",
       "      <td>...</td>\n",
       "      <td>...</td>\n",
       "      <td>...</td>\n",
       "      <td>...</td>\n",
       "      <td>...</td>\n",
       "      <td>...</td>\n",
       "      <td>...</td>\n",
       "      <td>...</td>\n",
       "      <td>...</td>\n",
       "      <td>...</td>\n",
       "      <td>...</td>\n",
       "      <td>...</td>\n",
       "      <td>...</td>\n",
       "      <td>...</td>\n",
       "    </tr>\n",
       "    <tr>\n",
       "      <th>347.22</th>\n",
       "      <th>3</th>\n",
       "      <td>95877</td>\n",
       "      <td>2</td>\n",
       "      <td>43036.0</td>\n",
       "      <td>10724</td>\n",
       "      <td>57704</td>\n",
       "      <td>2.000</td>\n",
       "      <td>750.00</td>\n",
       "      <td>750.00</td>\n",
       "      <td>52</td>\n",
       "      <td>75.8288</td>\n",
       "      <td>80.4612</td>\n",
       "      <td>8</td>\n",
       "      <td>8.017998</td>\n",
       "      <td>7.424</td>\n",
       "    </tr>\n",
       "    <tr>\n",
       "      <th>388.89</th>\n",
       "      <th>6</th>\n",
       "      <td>569665</td>\n",
       "      <td>1</td>\n",
       "      <td>0.0</td>\n",
       "      <td>8</td>\n",
       "      <td>150423</td>\n",
       "      <td>150.000</td>\n",
       "      <td>2.80</td>\n",
       "      <td>420.00</td>\n",
       "      <td>81</td>\n",
       "      <td>41.4564</td>\n",
       "      <td>31.7987</td>\n",
       "      <td>5</td>\n",
       "      <td>2.056085</td>\n",
       "      <td>285.568</td>\n",
       "    </tr>\n",
       "    <tr>\n",
       "      <th>402.87</th>\n",
       "      <th>3</th>\n",
       "      <td>147990</td>\n",
       "      <td>1</td>\n",
       "      <td>21518.0</td>\n",
       "      <td>21590</td>\n",
       "      <td>52515</td>\n",
       "      <td>13.225</td>\n",
       "      <td>32.90</td>\n",
       "      <td>435.10</td>\n",
       "      <td>26</td>\n",
       "      <td>37.9144</td>\n",
       "      <td>40.2306</td>\n",
       "      <td>2</td>\n",
       "      <td>24.675000</td>\n",
       "      <td>302.153</td>\n",
       "    </tr>\n",
       "    <tr>\n",
       "      <th>444.06</th>\n",
       "      <th>5</th>\n",
       "      <td>305551</td>\n",
       "      <td>1</td>\n",
       "      <td>23600.0</td>\n",
       "      <td>3198</td>\n",
       "      <td>89026</td>\n",
       "      <td>15.000</td>\n",
       "      <td>29.90</td>\n",
       "      <td>448.50</td>\n",
       "      <td>81</td>\n",
       "      <td>41.4564</td>\n",
       "      <td>31.7987</td>\n",
       "      <td>4</td>\n",
       "      <td>22.425000</td>\n",
       "      <td>333.045</td>\n",
       "    </tr>\n",
       "    <tr>\n",
       "      <th>490.74</th>\n",
       "      <th>5</th>\n",
       "      <td>211483</td>\n",
       "      <td>1</td>\n",
       "      <td>15876.0</td>\n",
       "      <td>8</td>\n",
       "      <td>67069</td>\n",
       "      <td>200.000</td>\n",
       "      <td>2.65</td>\n",
       "      <td>530.00</td>\n",
       "      <td>67</td>\n",
       "      <td>41.2928</td>\n",
       "      <td>36.3313</td>\n",
       "      <td>5</td>\n",
       "      <td>1.991724</td>\n",
       "      <td>368.837</td>\n",
       "    </tr>\n",
       "  </tbody>\n",
       "</table>\n",
       "<p>17099 rows × 14 columns</p>\n",
       "</div>"
      ],
      "text/plain": [
       "                     LOGICALREF  COUNT_   TARGET_  ITEMCODE  FICHENO   AMOUNT  \\\n",
       "LINENET Day_Of_Week                                                             \n",
       "0.01    1                423019       5   38287.0     42316   186830    0.012   \n",
       "        2               1084001       6  386244.0     64784   357384    0.010   \n",
       "        3                 22521       3  218222.0     16086    57943    0.008   \n",
       "        5               2080491       6  164582.0     33500   590888    0.014   \n",
       "        6               1041345       2       0.0      7772   277454    0.002   \n",
       "...                         ...     ...       ...       ...      ...      ...   \n",
       "347.22  3                 95877       2   43036.0     10724    57704    2.000   \n",
       "388.89  6                569665       1       0.0         8   150423  150.000   \n",
       "402.87  3                147990       1   21518.0     21590    52515   13.225   \n",
       "444.06  5                305551       1   23600.0      3198    89026   15.000   \n",
       "490.74  5                211483       1   15876.0         8    67069  200.000   \n",
       "\n",
       "                      PRICE  LINETOTAL  BRANCHNR  LATITUDE  LONGITUDE  \\\n",
       "LINENET Day_Of_Week                                                     \n",
       "0.01    1             20.40       0.05       127  194.3348   160.6951   \n",
       "        2             34.60       0.06       214  236.9772   227.9606   \n",
       "        3             13.20       0.03       134  118.4677    99.9344   \n",
       "        5             24.00       0.06       154  232.8422   202.8362   \n",
       "        6             13.90       0.02       156   76.9782    86.8178   \n",
       "...                     ...        ...       ...       ...        ...   \n",
       "347.22  3            750.00     750.00        52   75.8288    80.4612   \n",
       "388.89  6              2.80     420.00        81   41.4564    31.7987   \n",
       "402.87  3             32.90     435.10        26   37.9144    40.2306   \n",
       "444.06  5             29.90     448.50        81   41.4564    31.7987   \n",
       "490.74  5              2.65     530.00        67   41.2928    36.3313   \n",
       "\n",
       "                     CATEGORY_CODE1  BUYINGPRICE     COST  \n",
       "LINENET Day_Of_Week                                        \n",
       "0.01    1                        20    18.135997    0.043  \n",
       "        2                        24    28.785997    0.052  \n",
       "        3                        12    12.026998    0.027  \n",
       "        5                        12    20.456706    0.052  \n",
       "        6                         4    10.286321    0.014  \n",
       "...                             ...          ...      ...  \n",
       "347.22  3                         8     8.017998    7.424  \n",
       "388.89  6                         5     2.056085  285.568  \n",
       "402.87  3                         2    24.675000  302.153  \n",
       "444.06  5                         4    22.425000  333.045  \n",
       "490.74  5                         5     1.991724  368.837  \n",
       "\n",
       "[17099 rows x 14 columns]"
      ]
     },
     "execution_count": 9,
     "metadata": {},
     "output_type": "execute_result"
    }
   ],
   "source": [
    "data.groupby([\"LINENET\" , \"Day_Of_Week\"]).sum()"
   ]
  },
  {
   "cell_type": "code",
   "execution_count": 10,
   "metadata": {},
   "outputs": [
    {
     "data": {
      "text/plain": [
       "<matplotlib.axes._subplots.AxesSubplot at 0x2df75d9b850>"
      ]
     },
     "execution_count": 10,
     "metadata": {},
     "output_type": "execute_result"
    },
    {
     "data": {
      "image/png": "[encoded data removed]",
      "text/plain": [
       "<Figure size 720x432 with 1 Axes>"
      ]
     },
     "metadata": {
      "needs_background": "light"
     },
     "output_type": "display_data"
    }
   ],
   "source": [
    "data.groupby([\"Day_Of_Week\"])[\"BRAND\"].count().plot.bar(figsize=(10,6) , fontsize=12)"
   ]
  },
  {
   "cell_type": "markdown",
   "metadata": {},
   "source": [
    "#### What city had the highest number of sales?"
   ]
  },
  {
   "cell_type": "code",
   "execution_count": 11,
   "metadata": {},
   "outputs": [
    {
     "data": {
      "text/html": [
       "<div>\n",
       "<style scoped>\n",
       "    .dataframe tbody tr th:only-of-type {\n",
       "        vertical-align: middle;\n",
       "    }\n",
       "\n",
       "    .dataframe tbody tr th {\n",
       "        vertical-align: top;\n",
       "    }\n",
       "\n",
       "    .dataframe thead th {\n",
       "        text-align: right;\n",
       "    }\n",
       "</style>\n",
       "<table border=\"1\" class=\"dataframe\">\n",
       "  <thead>\n",
       "    <tr style=\"text-align: right;\">\n",
       "      <th></th>\n",
       "      <th>LOGICALREF</th>\n",
       "      <th>COUNT_</th>\n",
       "      <th>TARGET_</th>\n",
       "      <th>ITEMCODE</th>\n",
       "      <th>FICHENO</th>\n",
       "      <th>AMOUNT</th>\n",
       "      <th>PRICE</th>\n",
       "      <th>LINETOTAL</th>\n",
       "      <th>LINENET</th>\n",
       "      <th>BRANCHNR</th>\n",
       "      <th>LATITUDE</th>\n",
       "      <th>LONGITUDE</th>\n",
       "      <th>CATEGORY_CODE1</th>\n",
       "      <th>BUYINGPRICE</th>\n",
       "      <th>COST</th>\n",
       "      <th>Day_Of_Week</th>\n",
       "    </tr>\n",
       "    <tr>\n",
       "      <th>CITY</th>\n",
       "      <th></th>\n",
       "      <th></th>\n",
       "      <th></th>\n",
       "      <th></th>\n",
       "      <th></th>\n",
       "      <th></th>\n",
       "      <th></th>\n",
       "      <th></th>\n",
       "      <th></th>\n",
       "      <th></th>\n",
       "      <th></th>\n",
       "      <th></th>\n",
       "      <th></th>\n",
       "      <th></th>\n",
       "      <th></th>\n",
       "      <th></th>\n",
       "    </tr>\n",
       "  </thead>\n",
       "  <tbody>\n",
       "    <tr>\n",
       "      <th>Adana</th>\n",
       "      <td>4936542762</td>\n",
       "      <td>15668</td>\n",
       "      <td>2.479689e+08</td>\n",
       "      <td>142611825</td>\n",
       "      <td>1428032794</td>\n",
       "      <td>20334.882</td>\n",
       "      <td>63438.29</td>\n",
       "      <td>64517.44</td>\n",
       "      <td>59454.29</td>\n",
       "      <td>15668</td>\n",
       "      <td>5.797160e+05</td>\n",
       "      <td>5.534141e+05</td>\n",
       "      <td>66578</td>\n",
       "      <td>47502.617775</td>\n",
       "      <td>44551.878</td>\n",
       "      <td>45801</td>\n",
       "    </tr>\n",
       "    <tr>\n",
       "      <th>Adıyaman</th>\n",
       "      <td>1384559060</td>\n",
       "      <td>4499</td>\n",
       "      <td>2.020478e+07</td>\n",
       "      <td>40638135</td>\n",
       "      <td>402332541</td>\n",
       "      <td>5792.879</td>\n",
       "      <td>17789.50</td>\n",
       "      <td>18056.11</td>\n",
       "      <td>16623.68</td>\n",
       "      <td>8998</td>\n",
       "      <td>1.699038e+05</td>\n",
       "      <td>1.722154e+05</td>\n",
       "      <td>19075</td>\n",
       "      <td>13358.580803</td>\n",
       "      <td>12494.372</td>\n",
       "      <td>13265</td>\n",
       "    </tr>\n",
       "    <tr>\n",
       "      <th>Afyonkarahisar</th>\n",
       "      <td>1520993848</td>\n",
       "      <td>5031</td>\n",
       "      <td>2.639242e+07</td>\n",
       "      <td>45214933</td>\n",
       "      <td>443647285</td>\n",
       "      <td>6310.942</td>\n",
       "      <td>19578.21</td>\n",
       "      <td>19485.63</td>\n",
       "      <td>17902.79</td>\n",
       "      <td>15093</td>\n",
       "      <td>1.949548e+05</td>\n",
       "      <td>1.537308e+05</td>\n",
       "      <td>21414</td>\n",
       "      <td>14701.957974</td>\n",
       "      <td>13458.176</td>\n",
       "      <td>14229</td>\n",
       "    </tr>\n",
       "    <tr>\n",
       "      <th>Aksaray</th>\n",
       "      <td>982718911</td>\n",
       "      <td>3131</td>\n",
       "      <td>9.076935e+06</td>\n",
       "      <td>29425444</td>\n",
       "      <td>284423001</td>\n",
       "      <td>3745.925</td>\n",
       "      <td>12112.21</td>\n",
       "      <td>12280.00</td>\n",
       "      <td>11313.23</td>\n",
       "      <td>15655</td>\n",
       "      <td>1.201324e+05</td>\n",
       "      <td>1.065698e+05</td>\n",
       "      <td>13475</td>\n",
       "      <td>9086.308748</td>\n",
       "      <td>8493.744</td>\n",
       "      <td>9292</td>\n",
       "    </tr>\n",
       "    <tr>\n",
       "      <th>Amasya</th>\n",
       "      <td>789382413</td>\n",
       "      <td>2676</td>\n",
       "      <td>7.452120e+06</td>\n",
       "      <td>24073082</td>\n",
       "      <td>231518071</td>\n",
       "      <td>3525.318</td>\n",
       "      <td>10697.99</td>\n",
       "      <td>11140.40</td>\n",
       "      <td>10285.89</td>\n",
       "      <td>16056</td>\n",
       "      <td>1.087791e+05</td>\n",
       "      <td>9.589526e+04</td>\n",
       "      <td>11832</td>\n",
       "      <td>8009.372203</td>\n",
       "      <td>7706.648</td>\n",
       "      <td>7814</td>\n",
       "    </tr>\n",
       "    <tr>\n",
       "      <th>...</th>\n",
       "      <td>...</td>\n",
       "      <td>...</td>\n",
       "      <td>...</td>\n",
       "      <td>...</td>\n",
       "      <td>...</td>\n",
       "      <td>...</td>\n",
       "      <td>...</td>\n",
       "      <td>...</td>\n",
       "      <td>...</td>\n",
       "      <td>...</td>\n",
       "      <td>...</td>\n",
       "      <td>...</td>\n",
       "      <td>...</td>\n",
       "      <td>...</td>\n",
       "      <td>...</td>\n",
       "      <td>...</td>\n",
       "    </tr>\n",
       "    <tr>\n",
       "      <th>Çorum</th>\n",
       "      <td>1307999945</td>\n",
       "      <td>4165</td>\n",
       "      <td>1.561100e+07</td>\n",
       "      <td>36749468</td>\n",
       "      <td>378578920</td>\n",
       "      <td>5329.781</td>\n",
       "      <td>16153.80</td>\n",
       "      <td>16465.52</td>\n",
       "      <td>15182.42</td>\n",
       "      <td>99960</td>\n",
       "      <td>1.688932e+05</td>\n",
       "      <td>1.455901e+05</td>\n",
       "      <td>17458</td>\n",
       "      <td>12097.483435</td>\n",
       "      <td>11373.735</td>\n",
       "      <td>12155</td>\n",
       "    </tr>\n",
       "    <tr>\n",
       "      <th>İstanbul</th>\n",
       "      <td>34391553794</td>\n",
       "      <td>112181</td>\n",
       "      <td>1.307669e+10</td>\n",
       "      <td>1009822807</td>\n",
       "      <td>10002425603</td>\n",
       "      <td>142053.416</td>\n",
       "      <td>442922.99</td>\n",
       "      <td>450552.18</td>\n",
       "      <td>415009.28</td>\n",
       "      <td>4487240</td>\n",
       "      <td>4.600016e+06</td>\n",
       "      <td>3.250669e+06</td>\n",
       "      <td>478594</td>\n",
       "      <td>332186.617898</td>\n",
       "      <td>311401.725</td>\n",
       "      <td>331433</td>\n",
       "    </tr>\n",
       "    <tr>\n",
       "      <th>İzmir</th>\n",
       "      <td>9867588219</td>\n",
       "      <td>31894</td>\n",
       "      <td>1.022883e+09</td>\n",
       "      <td>284487062</td>\n",
       "      <td>2864500766</td>\n",
       "      <td>40390.475</td>\n",
       "      <td>128211.80</td>\n",
       "      <td>130616.40</td>\n",
       "      <td>120265.55</td>\n",
       "      <td>1307654</td>\n",
       "      <td>1.225332e+06</td>\n",
       "      <td>8.652428e+05</td>\n",
       "      <td>137989</td>\n",
       "      <td>96243.886170</td>\n",
       "      <td>90249.056</td>\n",
       "      <td>94209</td>\n",
       "    </tr>\n",
       "    <tr>\n",
       "      <th>Şanlıurfa</th>\n",
       "      <td>4488625747</td>\n",
       "      <td>14604</td>\n",
       "      <td>2.183560e+08</td>\n",
       "      <td>131790642</td>\n",
       "      <td>1304873067</td>\n",
       "      <td>18682.908</td>\n",
       "      <td>56320.36</td>\n",
       "      <td>57672.12</td>\n",
       "      <td>53070.96</td>\n",
       "      <td>1036884</td>\n",
       "      <td>5.426715e+05</td>\n",
       "      <td>5.665899e+05</td>\n",
       "      <td>61984</td>\n",
       "      <td>42254.583032</td>\n",
       "      <td>39758.689</td>\n",
       "      <td>44100</td>\n",
       "    </tr>\n",
       "    <tr>\n",
       "      <th>Şırnak</th>\n",
       "      <td>1116646076</td>\n",
       "      <td>3694</td>\n",
       "      <td>1.511069e+07</td>\n",
       "      <td>33745676</td>\n",
       "      <td>325686074</td>\n",
       "      <td>4792.455</td>\n",
       "      <td>15311.38</td>\n",
       "      <td>16628.59</td>\n",
       "      <td>15261.20</td>\n",
       "      <td>265968</td>\n",
       "      <td>1.382247e+05</td>\n",
       "      <td>1.569647e+05</td>\n",
       "      <td>15864</td>\n",
       "      <td>11474.658673</td>\n",
       "      <td>11190.644</td>\n",
       "      <td>10900</td>\n",
       "    </tr>\n",
       "  </tbody>\n",
       "</table>\n",
       "<p>81 rows × 16 columns</p>\n",
       "</div>"
      ],
      "text/plain": [
       "                 LOGICALREF  COUNT_       TARGET_    ITEMCODE      FICHENO  \\\n",
       "CITY                                                                         \n",
       "Adana            4936542762   15668  2.479689e+08   142611825   1428032794   \n",
       "Adıyaman         1384559060    4499  2.020478e+07    40638135    402332541   \n",
       "Afyonkarahisar   1520993848    5031  2.639242e+07    45214933    443647285   \n",
       "Aksaray           982718911    3131  9.076935e+06    29425444    284423001   \n",
       "Amasya            789382413    2676  7.452120e+06    24073082    231518071   \n",
       "...                     ...     ...           ...         ...          ...   \n",
       "Çorum            1307999945    4165  1.561100e+07    36749468    378578920   \n",
       "İstanbul        34391553794  112181  1.307669e+10  1009822807  10002425603   \n",
       "İzmir            9867588219   31894  1.022883e+09   284487062   2864500766   \n",
       "Şanlıurfa        4488625747   14604  2.183560e+08   131790642   1304873067   \n",
       "Şırnak           1116646076    3694  1.511069e+07    33745676    325686074   \n",
       "\n",
       "                    AMOUNT      PRICE  LINETOTAL    LINENET  BRANCHNR  \\\n",
       "CITY                                                                    \n",
       "Adana            20334.882   63438.29   64517.44   59454.29     15668   \n",
       "Adıyaman          5792.879   17789.50   18056.11   16623.68      8998   \n",
       "Afyonkarahisar    6310.942   19578.21   19485.63   17902.79     15093   \n",
       "Aksaray           3745.925   12112.21   12280.00   11313.23     15655   \n",
       "Amasya            3525.318   10697.99   11140.40   10285.89     16056   \n",
       "...                    ...        ...        ...        ...       ...   \n",
       "Çorum             5329.781   16153.80   16465.52   15182.42     99960   \n",
       "İstanbul        142053.416  442922.99  450552.18  415009.28   4487240   \n",
       "İzmir            40390.475  128211.80  130616.40  120265.55   1307654   \n",
       "Şanlıurfa        18682.908   56320.36   57672.12   53070.96   1036884   \n",
       "Şırnak            4792.455   15311.38   16628.59   15261.20    265968   \n",
       "\n",
       "                    LATITUDE     LONGITUDE  CATEGORY_CODE1    BUYINGPRICE  \\\n",
       "CITY                                                                        \n",
       "Adana           5.797160e+05  5.534141e+05           66578   47502.617775   \n",
       "Adıyaman        1.699038e+05  1.722154e+05           19075   13358.580803   \n",
       "Afyonkarahisar  1.949548e+05  1.537308e+05           21414   14701.957974   \n",
       "Aksaray         1.201324e+05  1.065698e+05           13475    9086.308748   \n",
       "Amasya          1.087791e+05  9.589526e+04           11832    8009.372203   \n",
       "...                      ...           ...             ...            ...   \n",
       "Çorum           1.688932e+05  1.455901e+05           17458   12097.483435   \n",
       "İstanbul        4.600016e+06  3.250669e+06          478594  332186.617898   \n",
       "İzmir           1.225332e+06  8.652428e+05          137989   96243.886170   \n",
       "Şanlıurfa       5.426715e+05  5.665899e+05           61984   42254.583032   \n",
       "Şırnak          1.382247e+05  1.569647e+05           15864   11474.658673   \n",
       "\n",
       "                      COST  Day_Of_Week  \n",
       "CITY                                     \n",
       "Adana            44551.878        45801  \n",
       "Adıyaman         12494.372        13265  \n",
       "Afyonkarahisar   13458.176        14229  \n",
       "Aksaray           8493.744         9292  \n",
       "Amasya            7706.648         7814  \n",
       "...                    ...          ...  \n",
       "Çorum            11373.735        12155  \n",
       "İstanbul        311401.725       331433  \n",
       "İzmir            90249.056        94209  \n",
       "Şanlıurfa        39758.689        44100  \n",
       "Şırnak           11190.644        10900  \n",
       "\n",
       "[81 rows x 16 columns]"
      ]
     },
     "execution_count": 11,
     "metadata": {},
     "output_type": "execute_result"
    }
   ],
   "source": [
    "results = data.groupby(\"CITY\").sum()\n",
    "results"
   ]
  },
  {
   "cell_type": "code",
   "execution_count": 69,
   "metadata": {},
   "outputs": [
    {
     "data": {
      "image/png": "[encoded data removed]",
      "text/plain": [
       "<Figure size 1500x800 with 1 Axes>"
      ]
     },
     "metadata": {
      "needs_background": "light"
     },
     "output_type": "display_data"
    },
    {
     "data": {
      "text/plain": [
       "<Figure size 1500x800 with 0 Axes>"
      ]
     },
     "metadata": {},
     "output_type": "display_data"
    }
   ],
   "source": [
    "cities = [city for city , df in data.groupby('CITY')]\n",
    "\n",
    "plt.bar(cities , results[\"LINENET\"] , width=1.5)\n",
    "plt.xticks(cities , rotation = 'vertical')\n",
    "fig=plt.figure(figsize=(15,8), dpi= 100, facecolor='w', edgecolor='k')\n",
    "plt.rcParams['figure.figsize'] = [15, 8]\n",
    "plt.rcParams['figure.dpi'] = 100\n",
    "plt.show()"
   ]
  },
  {
   "cell_type": "markdown",
   "metadata": {},
   "source": [
    "#### What time should we display advertisements to maximize likelihood of customer's buying product?"
   ]
  },
  {
   "cell_type": "code",
   "execution_count": 13,
   "metadata": {},
   "outputs": [],
   "source": [
    "data['Order Date'] = pd.to_datetime(data['STARTDATE'])"
   ]
  },
  {
   "cell_type": "code",
   "execution_count": 14,
   "metadata": {},
   "outputs": [],
   "source": [
    "data[\"Hour\"] = data['Order Date'].dt.hour\n",
    "data[\"Minute\"] = data['Order Date'].dt.minute"
   ]
  },
  {
   "cell_type": "code",
   "execution_count": 15,
   "metadata": {},
   "outputs": [
    {
     "data": {
      "text/html": [
       "<div>\n",
       "<style scoped>\n",
       "    .dataframe tbody tr th:only-of-type {\n",
       "        vertical-align: middle;\n",
       "    }\n",
       "\n",
       "    .dataframe tbody tr th {\n",
       "        vertical-align: top;\n",
       "    }\n",
       "\n",
       "    .dataframe thead th {\n",
       "        text-align: right;\n",
       "    }\n",
       "</style>\n",
       "<table border=\"1\" class=\"dataframe\">\n",
       "  <thead>\n",
       "    <tr style=\"text-align: right;\">\n",
       "      <th></th>\n",
       "      <th>LOGICALREF</th>\n",
       "      <th>COUNT_</th>\n",
       "      <th>TARGET_</th>\n",
       "      <th>ITEMCODE</th>\n",
       "      <th>ITEMNAME</th>\n",
       "      <th>FICHENO</th>\n",
       "      <th>DATE_</th>\n",
       "      <th>AMOUNT</th>\n",
       "      <th>PRICE</th>\n",
       "      <th>LINETOTAL</th>\n",
       "      <th>...</th>\n",
       "      <th>STARTDATE</th>\n",
       "      <th>ENDDATE</th>\n",
       "      <th>CLIENTGENDER</th>\n",
       "      <th>CLIENTBIRTHDATE</th>\n",
       "      <th>BUYINGPRICE</th>\n",
       "      <th>COST</th>\n",
       "      <th>Day_Of_Week</th>\n",
       "      <th>Order Date</th>\n",
       "      <th>Hour</th>\n",
       "      <th>Minute</th>\n",
       "    </tr>\n",
       "  </thead>\n",
       "  <tbody>\n",
       "    <tr>\n",
       "      <th>0</th>\n",
       "      <td>1</td>\n",
       "      <td>1</td>\n",
       "      <td>6697.0</td>\n",
       "      <td>8</td>\n",
       "      <td>TOZ SEKER</td>\n",
       "      <td>17258</td>\n",
       "      <td>2017-01-02</td>\n",
       "      <td>2.000</td>\n",
       "      <td>2.65</td>\n",
       "      <td>5.30</td>\n",
       "      <td>...</td>\n",
       "      <td>2017-01-03 09:25:03</td>\n",
       "      <td>2017-01-03 09:25:43</td>\n",
       "      <td>K</td>\n",
       "      <td>1973-06-21</td>\n",
       "      <td>1.987500</td>\n",
       "      <td>3.675</td>\n",
       "      <td>0</td>\n",
       "      <td>2017-01-03 09:25:03</td>\n",
       "      <td>9</td>\n",
       "      <td>25</td>\n",
       "    </tr>\n",
       "    <tr>\n",
       "      <th>1</th>\n",
       "      <td>2</td>\n",
       "      <td>1</td>\n",
       "      <td>6697.0</td>\n",
       "      <td>20868</td>\n",
       "      <td>KIRMIZI MERCIMEK</td>\n",
       "      <td>17258</td>\n",
       "      <td>2017-01-02</td>\n",
       "      <td>1.006</td>\n",
       "      <td>2.80</td>\n",
       "      <td>2.82</td>\n",
       "      <td>...</td>\n",
       "      <td>2017-01-03 09:25:03</td>\n",
       "      <td>2017-01-03 09:25:43</td>\n",
       "      <td>K</td>\n",
       "      <td>1973-06-21</td>\n",
       "      <td>2.100000</td>\n",
       "      <td>2.092</td>\n",
       "      <td>0</td>\n",
       "      <td>2017-01-03 09:25:03</td>\n",
       "      <td>9</td>\n",
       "      <td>25</td>\n",
       "    </tr>\n",
       "    <tr>\n",
       "      <th>2</th>\n",
       "      <td>3</td>\n",
       "      <td>1</td>\n",
       "      <td>6697.0</td>\n",
       "      <td>8583</td>\n",
       "      <td>TEST MATIK 1,5 KG NORMAL</td>\n",
       "      <td>17258</td>\n",
       "      <td>2017-01-02</td>\n",
       "      <td>1.000</td>\n",
       "      <td>4.95</td>\n",
       "      <td>4.95</td>\n",
       "      <td>...</td>\n",
       "      <td>2017-01-03 09:25:03</td>\n",
       "      <td>2017-01-03 09:25:43</td>\n",
       "      <td>K</td>\n",
       "      <td>1973-06-21</td>\n",
       "      <td>3.712500</td>\n",
       "      <td>3.143</td>\n",
       "      <td>0</td>\n",
       "      <td>2017-01-03 09:25:03</td>\n",
       "      <td>9</td>\n",
       "      <td>25</td>\n",
       "    </tr>\n",
       "    <tr>\n",
       "      <th>3</th>\n",
       "      <td>4</td>\n",
       "      <td>1</td>\n",
       "      <td>6697.0</td>\n",
       "      <td>1454</td>\n",
       "      <td>BIZIM MAKARNA BONCUK</td>\n",
       "      <td>17258</td>\n",
       "      <td>2017-01-02</td>\n",
       "      <td>1.000</td>\n",
       "      <td>1.10</td>\n",
       "      <td>1.10</td>\n",
       "      <td>...</td>\n",
       "      <td>2017-01-03 09:25:03</td>\n",
       "      <td>2017-01-03 09:25:43</td>\n",
       "      <td>K</td>\n",
       "      <td>1973-06-21</td>\n",
       "      <td>0.825000</td>\n",
       "      <td>0.765</td>\n",
       "      <td>0</td>\n",
       "      <td>2017-01-03 09:25:03</td>\n",
       "      <td>9</td>\n",
       "      <td>25</td>\n",
       "    </tr>\n",
       "    <tr>\n",
       "      <th>4</th>\n",
       "      <td>5</td>\n",
       "      <td>1</td>\n",
       "      <td>6697.0</td>\n",
       "      <td>13519</td>\n",
       "      <td>FILIZ MAKARNA KISA KESME 500 GR</td>\n",
       "      <td>17258</td>\n",
       "      <td>2017-01-02</td>\n",
       "      <td>1.000</td>\n",
       "      <td>1.10</td>\n",
       "      <td>1.10</td>\n",
       "      <td>...</td>\n",
       "      <td>2017-01-03 09:25:03</td>\n",
       "      <td>2017-01-03 09:25:43</td>\n",
       "      <td>K</td>\n",
       "      <td>1973-06-21</td>\n",
       "      <td>0.836111</td>\n",
       "      <td>0.775</td>\n",
       "      <td>0</td>\n",
       "      <td>2017-01-03 09:25:03</td>\n",
       "      <td>9</td>\n",
       "      <td>25</td>\n",
       "    </tr>\n",
       "  </tbody>\n",
       "</table>\n",
       "<p>5 rows × 41 columns</p>\n",
       "</div>"
      ],
      "text/plain": [
       "   LOGICALREF  COUNT_  TARGET_  ITEMCODE                         ITEMNAME  \\\n",
       "0           1       1   6697.0         8                        TOZ SEKER   \n",
       "1           2       1   6697.0     20868                 KIRMIZI MERCIMEK   \n",
       "2           3       1   6697.0      8583         TEST MATIK 1,5 KG NORMAL   \n",
       "3           4       1   6697.0      1454             BIZIM MAKARNA BONCUK   \n",
       "4           5       1   6697.0     13519  FILIZ MAKARNA KISA KESME 500 GR   \n",
       "\n",
       "   FICHENO      DATE_  AMOUNT  PRICE  LINETOTAL  ...           STARTDATE  \\\n",
       "0    17258 2017-01-02   2.000   2.65       5.30  ... 2017-01-03 09:25:03   \n",
       "1    17258 2017-01-02   1.006   2.80       2.82  ... 2017-01-03 09:25:03   \n",
       "2    17258 2017-01-02   1.000   4.95       4.95  ... 2017-01-03 09:25:03   \n",
       "3    17258 2017-01-02   1.000   1.10       1.10  ... 2017-01-03 09:25:03   \n",
       "4    17258 2017-01-02   1.000   1.10       1.10  ... 2017-01-03 09:25:03   \n",
       "\n",
       "              ENDDATE CLIENTGENDER CLIENTBIRTHDATE BUYINGPRICE   COST  \\\n",
       "0 2017-01-03 09:25:43            K      1973-06-21    1.987500  3.675   \n",
       "1 2017-01-03 09:25:43            K      1973-06-21    2.100000  2.092   \n",
       "2 2017-01-03 09:25:43            K      1973-06-21    3.712500  3.143   \n",
       "3 2017-01-03 09:25:43            K      1973-06-21    0.825000  0.765   \n",
       "4 2017-01-03 09:25:43            K      1973-06-21    0.836111  0.775   \n",
       "\n",
       "   Day_Of_Week          Order Date Hour Minute  \n",
       "0            0 2017-01-03 09:25:03    9     25  \n",
       "1            0 2017-01-03 09:25:03    9     25  \n",
       "2            0 2017-01-03 09:25:03    9     25  \n",
       "3            0 2017-01-03 09:25:03    9     25  \n",
       "4            0 2017-01-03 09:25:03    9     25  \n",
       "\n",
       "[5 rows x 41 columns]"
      ]
     },
     "execution_count": 15,
     "metadata": {},
     "output_type": "execute_result"
    }
   ],
   "source": [
    "data.head()"
   ]
  },
  {
   "cell_type": "code",
   "execution_count": 16,
   "metadata": {},
   "outputs": [
    {
     "data": {
      "image/png": "[encoded data removed]",
      "text/plain": [
       "<Figure size 1500x800 with 1 Axes>"
      ]
     },
     "metadata": {
      "needs_background": "light"
     },
     "output_type": "display_data"
    }
   ],
   "source": [
    "hours = [hour for hour , df in data.groupby('Hour')]\n",
    "\n",
    "plt.plot(hours , data.groupby([\"Hour\"]).count())\n",
    "plt.xticks(hours)\n",
    "plt.xlabel(\"Hour\")\n",
    "plt.ylabel(\"Number of Orders\")\n",
    "plt.grid()\n",
    "plt.show()"
   ]
  },
  {
   "cell_type": "code",
   "execution_count": null,
   "metadata": {},
   "outputs": [],
   "source": []
  },
  {
   "cell_type": "markdown",
   "metadata": {},
   "source": [
    "#### What product sold the most ?"
   ]
  },
  {
   "cell_type": "code",
   "execution_count": 17,
   "metadata": {},
   "outputs": [
    {
     "data": {
      "text/plain": [
       "<matplotlib.axes._subplots.AxesSubplot at 0x2df7cd27b50>"
      ]
     },
     "execution_count": 17,
     "metadata": {},
     "output_type": "execute_result"
    },
    {
     "data": {
      "image/png": "[encoded data removed]",
      "text/plain": [
       "<Figure size 1500x800 with 1 Axes>"
      ]
     },
     "metadata": {
      "needs_background": "light"
     },
     "output_type": "display_data"
    }
   ],
   "source": [
    "brand = data.BRAND.value_counts()\n",
    "brand2 = brand.head(10)\n",
    "if len(brand) < 10:\n",
    "    brand2['remaining {0} items'.format(len(brand) - 10)] = sum(brand[10:])\n",
    "brand2.plot(kind='bar')"
   ]
  },
  {
   "cell_type": "markdown",
   "metadata": {},
   "source": [
    "#### Which city had the most sales?"
   ]
  },
  {
   "cell_type": "code",
   "execution_count": 18,
   "metadata": {},
   "outputs": [
    {
     "data": {
      "text/plain": [
       "<matplotlib.axes._subplots.AxesSubplot at 0x2df796dbf10>"
      ]
     },
     "execution_count": 18,
     "metadata": {},
     "output_type": "execute_result"
    },
    {
     "data": {
      "image/png": "[encoded data removed]",
      "text/plain": [
       "<Figure size 1500x800 with 1 Axes>"
      ]
     },
     "metadata": {
      "needs_background": "light"
     },
     "output_type": "display_data"
    }
   ],
   "source": [
    "city = data.CITY.value_counts()\n",
    "city2 = city.head(10)\n",
    "if len(city) < 10:\n",
    "    city2['remaining {0} items'.format(len(city) - 10)] = sum(city[10:])\n",
    "city2.plot(kind='bar')"
   ]
  },
  {
   "cell_type": "code",
   "execution_count": null,
   "metadata": {},
   "outputs": [],
   "source": []
  },
  {
   "cell_type": "code",
   "execution_count": 19,
   "metadata": {},
   "outputs": [
    {
     "data": {
      "text/html": [
       "<div>\n",
       "<style scoped>\n",
       "    .dataframe tbody tr th:only-of-type {\n",
       "        vertical-align: middle;\n",
       "    }\n",
       "\n",
       "    .dataframe tbody tr th {\n",
       "        vertical-align: top;\n",
       "    }\n",
       "\n",
       "    .dataframe thead th {\n",
       "        text-align: right;\n",
       "    }\n",
       "</style>\n",
       "<table border=\"1\" class=\"dataframe\">\n",
       "  <thead>\n",
       "    <tr style=\"text-align: right;\">\n",
       "      <th></th>\n",
       "      <th>LOGICALREF</th>\n",
       "      <th>REGION</th>\n",
       "      <th>BRANCH</th>\n",
       "      <th>CITY</th>\n",
       "      <th>MONTH_</th>\n",
       "      <th>DATE_</th>\n",
       "      <th>CATEGORY_NAME1</th>\n",
       "      <th>LINENET</th>\n",
       "      <th>TARGET_</th>\n",
       "    </tr>\n",
       "  </thead>\n",
       "  <tbody>\n",
       "    <tr>\n",
       "      <th>0</th>\n",
       "      <td>1</td>\n",
       "      <td>Akdeniz</td>\n",
       "      <td>Adana Subesi</td>\n",
       "      <td>Adana</td>\n",
       "      <td>1</td>\n",
       "      <td>2017-01-03</td>\n",
       "      <td>ET TAVUK</td>\n",
       "      <td>1964.62</td>\n",
       "      <td>1021.188018</td>\n",
       "    </tr>\n",
       "    <tr>\n",
       "      <th>1</th>\n",
       "      <td>2</td>\n",
       "      <td>Akdeniz</td>\n",
       "      <td>Adana Subesi</td>\n",
       "      <td>Adana</td>\n",
       "      <td>1</td>\n",
       "      <td>2017-01-03</td>\n",
       "      <td>KOZMETİK</td>\n",
       "      <td>717.79</td>\n",
       "      <td>905.967920</td>\n",
       "    </tr>\n",
       "    <tr>\n",
       "      <th>2</th>\n",
       "      <td>3</td>\n",
       "      <td>Akdeniz</td>\n",
       "      <td>Antalya Subesi</td>\n",
       "      <td>Antalya</td>\n",
       "      <td>1</td>\n",
       "      <td>2017-01-02</td>\n",
       "      <td>SİGARA</td>\n",
       "      <td>1289.06</td>\n",
       "      <td>1596.313124</td>\n",
       "    </tr>\n",
       "    <tr>\n",
       "      <th>3</th>\n",
       "      <td>4</td>\n",
       "      <td>Akdeniz</td>\n",
       "      <td>Burdur Subesi</td>\n",
       "      <td>Burdur</td>\n",
       "      <td>1</td>\n",
       "      <td>2017-01-02</td>\n",
       "      <td>GIDA</td>\n",
       "      <td>620.87</td>\n",
       "      <td>870.216762</td>\n",
       "    </tr>\n",
       "    <tr>\n",
       "      <th>4</th>\n",
       "      <td>5</td>\n",
       "      <td>Akdeniz</td>\n",
       "      <td>Burdur Subesi</td>\n",
       "      <td>Burdur</td>\n",
       "      <td>1</td>\n",
       "      <td>2017-01-02</td>\n",
       "      <td>İÇECEK</td>\n",
       "      <td>234.34</td>\n",
       "      <td>240.446707</td>\n",
       "    </tr>\n",
       "  </tbody>\n",
       "</table>\n",
       "</div>"
      ],
      "text/plain": [
       "   LOGICALREF   REGION          BRANCH     CITY  MONTH_      DATE_  \\\n",
       "0           1  Akdeniz    Adana Subesi    Adana       1 2017-01-03   \n",
       "1           2  Akdeniz    Adana Subesi    Adana       1 2017-01-03   \n",
       "2           3  Akdeniz  Antalya Subesi  Antalya       1 2017-01-02   \n",
       "3           4  Akdeniz   Burdur Subesi   Burdur       1 2017-01-02   \n",
       "4           5  Akdeniz   Burdur Subesi   Burdur       1 2017-01-02   \n",
       "\n",
       "  CATEGORY_NAME1  LINENET      TARGET_  \n",
       "0       ET TAVUK  1964.62  1021.188018  \n",
       "1       KOZMETİK   717.79   905.967920  \n",
       "2         SİGARA  1289.06  1596.313124  \n",
       "3           GIDA   620.87   870.216762  \n",
       "4         İÇECEK   234.34   240.446707  "
      ]
     },
     "execution_count": 19,
     "metadata": {},
     "output_type": "execute_result"
    }
   ],
   "source": [
    "df = pd.read_excel(\"Sales_Target.xlsx\")\n",
    "df = df.copy()\n",
    "df.head()"
   ]
  },
  {
   "cell_type": "code",
   "execution_count": 20,
   "metadata": {},
   "outputs": [
    {
     "data": {
      "text/html": [
       "<div>\n",
       "<style scoped>\n",
       "    .dataframe tbody tr th:only-of-type {\n",
       "        vertical-align: middle;\n",
       "    }\n",
       "\n",
       "    .dataframe tbody tr th {\n",
       "        vertical-align: top;\n",
       "    }\n",
       "\n",
       "    .dataframe thead th {\n",
       "        text-align: right;\n",
       "    }\n",
       "</style>\n",
       "<table border=\"1\" class=\"dataframe\">\n",
       "  <thead>\n",
       "    <tr style=\"text-align: right;\">\n",
       "      <th></th>\n",
       "      <th>LOGICALREF</th>\n",
       "      <th>BRANCH</th>\n",
       "      <th>CITY</th>\n",
       "      <th>MONTH_</th>\n",
       "      <th>DATE_</th>\n",
       "      <th>CATEGORY_NAME1</th>\n",
       "      <th>LINENET</th>\n",
       "      <th>TARGET_</th>\n",
       "    </tr>\n",
       "    <tr>\n",
       "      <th>REGION</th>\n",
       "      <th></th>\n",
       "      <th></th>\n",
       "      <th></th>\n",
       "      <th></th>\n",
       "      <th></th>\n",
       "      <th></th>\n",
       "      <th></th>\n",
       "      <th></th>\n",
       "    </tr>\n",
       "  </thead>\n",
       "  <tbody>\n",
       "    <tr>\n",
       "      <th>Akdeniz</th>\n",
       "      <td>267</td>\n",
       "      <td>267</td>\n",
       "      <td>267</td>\n",
       "      <td>267</td>\n",
       "      <td>267</td>\n",
       "      <td>267</td>\n",
       "      <td>267</td>\n",
       "      <td>267</td>\n",
       "    </tr>\n",
       "    <tr>\n",
       "      <th>Doğu Anadolu</th>\n",
       "      <td>462</td>\n",
       "      <td>462</td>\n",
       "      <td>462</td>\n",
       "      <td>462</td>\n",
       "      <td>462</td>\n",
       "      <td>462</td>\n",
       "      <td>462</td>\n",
       "      <td>462</td>\n",
       "    </tr>\n",
       "    <tr>\n",
       "      <th>Ege</th>\n",
       "      <td>300</td>\n",
       "      <td>300</td>\n",
       "      <td>300</td>\n",
       "      <td>300</td>\n",
       "      <td>300</td>\n",
       "      <td>300</td>\n",
       "      <td>300</td>\n",
       "      <td>300</td>\n",
       "    </tr>\n",
       "    <tr>\n",
       "      <th>Güneydoğu Anadolu</th>\n",
       "      <td>300</td>\n",
       "      <td>300</td>\n",
       "      <td>300</td>\n",
       "      <td>300</td>\n",
       "      <td>300</td>\n",
       "      <td>300</td>\n",
       "      <td>300</td>\n",
       "      <td>300</td>\n",
       "    </tr>\n",
       "    <tr>\n",
       "      <th>Karadeniz</th>\n",
       "      <td>593</td>\n",
       "      <td>593</td>\n",
       "      <td>593</td>\n",
       "      <td>593</td>\n",
       "      <td>593</td>\n",
       "      <td>593</td>\n",
       "      <td>593</td>\n",
       "      <td>593</td>\n",
       "    </tr>\n",
       "    <tr>\n",
       "      <th>Marmara</th>\n",
       "      <td>333</td>\n",
       "      <td>333</td>\n",
       "      <td>333</td>\n",
       "      <td>333</td>\n",
       "      <td>333</td>\n",
       "      <td>333</td>\n",
       "      <td>333</td>\n",
       "      <td>333</td>\n",
       "    </tr>\n",
       "    <tr>\n",
       "      <th>İç Anadolu</th>\n",
       "      <td>431</td>\n",
       "      <td>431</td>\n",
       "      <td>431</td>\n",
       "      <td>431</td>\n",
       "      <td>431</td>\n",
       "      <td>431</td>\n",
       "      <td>431</td>\n",
       "      <td>431</td>\n",
       "    </tr>\n",
       "  </tbody>\n",
       "</table>\n",
       "</div>"
      ],
      "text/plain": [
       "                   LOGICALREF  BRANCH  CITY  MONTH_  DATE_  CATEGORY_NAME1  \\\n",
       "REGION                                                                       \n",
       "Akdeniz                   267     267   267     267    267             267   \n",
       "Doğu Anadolu              462     462   462     462    462             462   \n",
       "Ege                       300     300   300     300    300             300   \n",
       "Güneydoğu Anadolu         300     300   300     300    300             300   \n",
       "Karadeniz                 593     593   593     593    593             593   \n",
       "Marmara                   333     333   333     333    333             333   \n",
       "İç Anadolu                431     431   431     431    431             431   \n",
       "\n",
       "                   LINENET  TARGET_  \n",
       "REGION                               \n",
       "Akdeniz                267      267  \n",
       "Doğu Anadolu           462      462  \n",
       "Ege                    300      300  \n",
       "Güneydoğu Anadolu      300      300  \n",
       "Karadeniz              593      593  \n",
       "Marmara                333      333  \n",
       "İç Anadolu             431      431  "
      ]
     },
     "execution_count": 20,
     "metadata": {},
     "output_type": "execute_result"
    }
   ],
   "source": [
    "df.groupby(\"REGION\").count()"
   ]
  },
  {
   "cell_type": "code",
   "execution_count": 21,
   "metadata": {},
   "outputs": [
    {
     "data": {
      "text/html": [
       "<div>\n",
       "<style scoped>\n",
       "    .dataframe tbody tr th:only-of-type {\n",
       "        vertical-align: middle;\n",
       "    }\n",
       "\n",
       "    .dataframe tbody tr th {\n",
       "        vertical-align: top;\n",
       "    }\n",
       "\n",
       "    .dataframe thead th {\n",
       "        text-align: right;\n",
       "    }\n",
       "</style>\n",
       "<table border=\"1\" class=\"dataframe\">\n",
       "  <thead>\n",
       "    <tr style=\"text-align: right;\">\n",
       "      <th></th>\n",
       "      <th>LOGICALREF</th>\n",
       "      <th>MONTH_</th>\n",
       "      <th>LINENET</th>\n",
       "      <th>TARGET_</th>\n",
       "    </tr>\n",
       "    <tr>\n",
       "      <th>REGION</th>\n",
       "      <th></th>\n",
       "      <th></th>\n",
       "      <th></th>\n",
       "      <th></th>\n",
       "    </tr>\n",
       "  </thead>\n",
       "  <tbody>\n",
       "    <tr>\n",
       "      <th>Akdeniz</th>\n",
       "      <td>261486</td>\n",
       "      <td>535</td>\n",
       "      <td>278477.54</td>\n",
       "      <td>287596.226022</td>\n",
       "    </tr>\n",
       "    <tr>\n",
       "      <th>Doğu Anadolu</th>\n",
       "      <td>500075</td>\n",
       "      <td>924</td>\n",
       "      <td>165364.36</td>\n",
       "      <td>170735.431353</td>\n",
       "    </tr>\n",
       "    <tr>\n",
       "      <th>Ege</th>\n",
       "      <td>354139</td>\n",
       "      <td>598</td>\n",
       "      <td>321318.70</td>\n",
       "      <td>320997.808287</td>\n",
       "    </tr>\n",
       "    <tr>\n",
       "      <th>Güneydoğu Anadolu</th>\n",
       "      <td>386254</td>\n",
       "      <td>600</td>\n",
       "      <td>234526.31</td>\n",
       "      <td>226597.326747</td>\n",
       "    </tr>\n",
       "    <tr>\n",
       "      <th>Karadeniz</th>\n",
       "      <td>924759</td>\n",
       "      <td>1186</td>\n",
       "      <td>245717.14</td>\n",
       "      <td>253777.981956</td>\n",
       "    </tr>\n",
       "    <tr>\n",
       "      <th>Marmara</th>\n",
       "      <td>580041</td>\n",
       "      <td>666</td>\n",
       "      <td>638491.63</td>\n",
       "      <td>609227.069373</td>\n",
       "    </tr>\n",
       "    <tr>\n",
       "      <th>İç Anadolu</th>\n",
       "      <td>601887</td>\n",
       "      <td>863</td>\n",
       "      <td>355299.87</td>\n",
       "      <td>351034.234168</td>\n",
       "    </tr>\n",
       "  </tbody>\n",
       "</table>\n",
       "</div>"
      ],
      "text/plain": [
       "                   LOGICALREF  MONTH_    LINENET        TARGET_\n",
       "REGION                                                         \n",
       "Akdeniz                261486     535  278477.54  287596.226022\n",
       "Doğu Anadolu           500075     924  165364.36  170735.431353\n",
       "Ege                    354139     598  321318.70  320997.808287\n",
       "Güneydoğu Anadolu      386254     600  234526.31  226597.326747\n",
       "Karadeniz              924759    1186  245717.14  253777.981956\n",
       "Marmara                580041     666  638491.63  609227.069373\n",
       "İç Anadolu             601887     863  355299.87  351034.234168"
      ]
     },
     "execution_count": 21,
     "metadata": {},
     "output_type": "execute_result"
    }
   ],
   "source": [
    "df.groupby(\"REGION\").sum()"
   ]
  },
  {
   "cell_type": "code",
   "execution_count": 22,
   "metadata": {},
   "outputs": [
    {
     "data": {
      "text/html": [
       "<div>\n",
       "<style scoped>\n",
       "    .dataframe tbody tr th:only-of-type {\n",
       "        vertical-align: middle;\n",
       "    }\n",
       "\n",
       "    .dataframe tbody tr th {\n",
       "        vertical-align: top;\n",
       "    }\n",
       "\n",
       "    .dataframe thead th {\n",
       "        text-align: right;\n",
       "    }\n",
       "</style>\n",
       "<table border=\"1\" class=\"dataframe\">\n",
       "  <thead>\n",
       "    <tr style=\"text-align: right;\">\n",
       "      <th></th>\n",
       "      <th></th>\n",
       "      <th>LOGICALREF</th>\n",
       "      <th>MONTH_</th>\n",
       "      <th>LINENET</th>\n",
       "      <th>TARGET_</th>\n",
       "    </tr>\n",
       "    <tr>\n",
       "      <th>REGION</th>\n",
       "      <th>CATEGORY_NAME1</th>\n",
       "      <th></th>\n",
       "      <th></th>\n",
       "      <th></th>\n",
       "      <th></th>\n",
       "    </tr>\n",
       "  </thead>\n",
       "  <tbody>\n",
       "    <tr>\n",
       "      <th rowspan=\"5\" valign=\"top\">Akdeniz</th>\n",
       "      <th>BEBEK</th>\n",
       "      <td>24492</td>\n",
       "      <td>48</td>\n",
       "      <td>8043.99</td>\n",
       "      <td>8665.791893</td>\n",
       "    </tr>\n",
       "    <tr>\n",
       "      <th>DETERJAN TEMİZLİK</th>\n",
       "      <td>23159</td>\n",
       "      <td>48</td>\n",
       "      <td>15024.78</td>\n",
       "      <td>17309.347018</td>\n",
       "    </tr>\n",
       "    <tr>\n",
       "      <th>ET TAVUK</th>\n",
       "      <td>23817</td>\n",
       "      <td>48</td>\n",
       "      <td>26837.78</td>\n",
       "      <td>30379.354339</td>\n",
       "    </tr>\n",
       "    <tr>\n",
       "      <th>EV</th>\n",
       "      <td>24506</td>\n",
       "      <td>48</td>\n",
       "      <td>4501.78</td>\n",
       "      <td>4540.290555</td>\n",
       "    </tr>\n",
       "    <tr>\n",
       "      <th>GIDA</th>\n",
       "      <td>24067</td>\n",
       "      <td>48</td>\n",
       "      <td>73517.80</td>\n",
       "      <td>72423.744112</td>\n",
       "    </tr>\n",
       "    <tr>\n",
       "      <th>...</th>\n",
       "      <th>...</th>\n",
       "      <td>...</td>\n",
       "      <td>...</td>\n",
       "      <td>...</td>\n",
       "      <td>...</td>\n",
       "    </tr>\n",
       "    <tr>\n",
       "      <th rowspan=\"5\" valign=\"top\">İç Anadolu</th>\n",
       "      <th>MEYVE SEBZE</th>\n",
       "      <td>54609</td>\n",
       "      <td>78</td>\n",
       "      <td>36517.56</td>\n",
       "      <td>32094.668722</td>\n",
       "    </tr>\n",
       "    <tr>\n",
       "      <th>PET</th>\n",
       "      <td>3165</td>\n",
       "      <td>5</td>\n",
       "      <td>27.02</td>\n",
       "      <td>21.025239</td>\n",
       "    </tr>\n",
       "    <tr>\n",
       "      <th>SÜT KAHVALTILIK</th>\n",
       "      <td>54401</td>\n",
       "      <td>78</td>\n",
       "      <td>66509.10</td>\n",
       "      <td>66454.005934</td>\n",
       "    </tr>\n",
       "    <tr>\n",
       "      <th>SİGARA</th>\n",
       "      <td>53195</td>\n",
       "      <td>78</td>\n",
       "      <td>24133.21</td>\n",
       "      <td>24472.704636</td>\n",
       "    </tr>\n",
       "    <tr>\n",
       "      <th>İÇECEK</th>\n",
       "      <td>54544</td>\n",
       "      <td>78</td>\n",
       "      <td>38031.23</td>\n",
       "      <td>36897.744978</td>\n",
       "    </tr>\n",
       "  </tbody>\n",
       "</table>\n",
       "<p>84 rows × 4 columns</p>\n",
       "</div>"
      ],
      "text/plain": [
       "                              LOGICALREF  MONTH_   LINENET       TARGET_\n",
       "REGION     CATEGORY_NAME1                                               \n",
       "Akdeniz    BEBEK                   24492      48   8043.99   8665.791893\n",
       "           DETERJAN TEMİZLİK       23159      48  15024.78  17309.347018\n",
       "           ET TAVUK                23817      48  26837.78  30379.354339\n",
       "           EV                      24506      48   4501.78   4540.290555\n",
       "           GIDA                    24067      48  73517.80  72423.744112\n",
       "...                                  ...     ...       ...           ...\n",
       "İç Anadolu MEYVE SEBZE             54609      78  36517.56  32094.668722\n",
       "           PET                      3165       5     27.02     21.025239\n",
       "           SÜT KAHVALTILIK         54401      78  66509.10  66454.005934\n",
       "           SİGARA                  53195      78  24133.21  24472.704636\n",
       "           İÇECEK                  54544      78  38031.23  36897.744978\n",
       "\n",
       "[84 rows x 4 columns]"
      ]
     },
     "execution_count": 22,
     "metadata": {},
     "output_type": "execute_result"
    }
   ],
   "source": [
    "df.groupby([\"REGION\" , \"CATEGORY_NAME1\"]).sum()"
   ]
  },
  {
   "cell_type": "markdown",
   "metadata": {},
   "source": [
    "#### Distribution Of Categories"
   ]
  },
  {
   "cell_type": "code",
   "execution_count": 23,
   "metadata": {},
   "outputs": [
    {
     "name": "stderr",
     "output_type": "stream",
     "text": [
      "<ipython-input-23-60f27d188c90>:2: MatplotlibDeprecationWarning: Adding an axes using the same arguments as a previous axes currently reuses the earlier instance.  In a future version, a new instance will always be created and returned.  Meanwhile, this warning can be suppressed, and the future behavior ensured, by passing a unique label to each axes instance.\n",
      "  plt.subplot()\n"
     ]
    },
    {
     "data": {
      "text/plain": [
       "<matplotlib.axes._subplots.AxesSubplot at 0x2df703e8be0>"
      ]
     },
     "execution_count": 23,
     "metadata": {},
     "output_type": "execute_result"
    },
    {
     "data": {
      "image/png": "[encoded data removed]",
      "text/plain": [
       "<Figure size 1500x800 with 1 Axes>"
      ]
     },
     "metadata": {},
     "output_type": "display_data"
    }
   ],
   "source": [
    "data['CATEGORY_NAME1'].value_counts().plot.pie(title='CATEGORY_NAME1',cmap=\"Accent\",autopct=\"%1.1f%%\")\n",
    "plt.subplot()"
   ]
  },
  {
   "cell_type": "code",
   "execution_count": 24,
   "metadata": {},
   "outputs": [
    {
     "data": {
      "text/plain": [
       "<matplotlib.axes._subplots.AxesSubplot at 0x2df728c1ca0>"
      ]
     },
     "execution_count": 24,
     "metadata": {},
     "output_type": "execute_result"
    },
    {
     "data": {
      "image/png": "[encoded data removed]",
      "text/plain": [
       "<Figure size 1000x600 with 1 Axes>"
      ]
     },
     "metadata": {
      "needs_background": "light"
     },
     "output_type": "display_data"
    }
   ],
   "source": [
    "data[[\"CATEGORY_NAME1\",'LINENET']].groupby('CATEGORY_NAME1')\\\n",
    ".count().plot(figsize=(10,6), fontsize=12, title='SALES OF PRODUCT')"
   ]
  },
  {
   "cell_type": "markdown",
   "metadata": {},
   "source": [
    "#### Target and Sales Chart"
   ]
  },
  {
   "cell_type": "code",
   "execution_count": 25,
   "metadata": {},
   "outputs": [
    {
     "data": {
      "text/plain": [
       "<matplotlib.legend.Legend at 0x2df703e8820>"
      ]
     },
     "execution_count": 25,
     "metadata": {},
     "output_type": "execute_result"
    },
    {
     "data": {
      "image/png": "[encoded data removed]",
      "text/plain": [
       "<Figure size 1500x800 with 1 Axes>"
      ]
     },
     "metadata": {
      "needs_background": "light"
     },
     "output_type": "display_data"
    }
   ],
   "source": [
    "fig = plt.figure()\n",
    "ax = fig.add_subplot()\n",
    "veri1 = df[\"TARGET_\"].cumsum()\n",
    "veri2 = df[\"LINENET\"].cumsum()\n",
    "ax.plot(veri1 , \"k\" , label=\"hedef\")\n",
    "ax.plot(veri2 , \"b--\" , label=\"satis\")\n",
    "ax.legend(loc=\"best\")"
   ]
  },
  {
   "cell_type": "code",
   "execution_count": null,
   "metadata": {},
   "outputs": [],
   "source": []
  },
  {
   "cell_type": "markdown",
   "metadata": {},
   "source": [
    "### Modelleme"
   ]
  },
  {
   "cell_type": "code",
   "execution_count": 26,
   "metadata": {},
   "outputs": [
    {
     "data": {
      "text/html": [
       "<div>\n",
       "<style scoped>\n",
       "    .dataframe tbody tr th:only-of-type {\n",
       "        vertical-align: middle;\n",
       "    }\n",
       "\n",
       "    .dataframe tbody tr th {\n",
       "        vertical-align: top;\n",
       "    }\n",
       "\n",
       "    .dataframe thead th {\n",
       "        text-align: right;\n",
       "    }\n",
       "</style>\n",
       "<table border=\"1\" class=\"dataframe\">\n",
       "  <thead>\n",
       "    <tr style=\"text-align: right;\">\n",
       "      <th></th>\n",
       "      <th>LOGICALREF</th>\n",
       "      <th>COUNT_</th>\n",
       "      <th>TARGET_</th>\n",
       "      <th>ITEMCODE</th>\n",
       "      <th>ITEMNAME</th>\n",
       "      <th>FICHENO</th>\n",
       "      <th>DATE_</th>\n",
       "      <th>AMOUNT</th>\n",
       "      <th>PRICE</th>\n",
       "      <th>LINETOTAL</th>\n",
       "      <th>...</th>\n",
       "      <th>STARTDATE</th>\n",
       "      <th>ENDDATE</th>\n",
       "      <th>CLIENTGENDER</th>\n",
       "      <th>CLIENTBIRTHDATE</th>\n",
       "      <th>BUYINGPRICE</th>\n",
       "      <th>COST</th>\n",
       "      <th>Day_Of_Week</th>\n",
       "      <th>Order Date</th>\n",
       "      <th>Hour</th>\n",
       "      <th>Minute</th>\n",
       "    </tr>\n",
       "  </thead>\n",
       "  <tbody>\n",
       "    <tr>\n",
       "      <th>0</th>\n",
       "      <td>1</td>\n",
       "      <td>1</td>\n",
       "      <td>6697.0</td>\n",
       "      <td>8</td>\n",
       "      <td>TOZ SEKER</td>\n",
       "      <td>17258</td>\n",
       "      <td>2017-01-02</td>\n",
       "      <td>2.000</td>\n",
       "      <td>2.65</td>\n",
       "      <td>5.30</td>\n",
       "      <td>...</td>\n",
       "      <td>2017-01-03 09:25:03</td>\n",
       "      <td>2017-01-03 09:25:43</td>\n",
       "      <td>K</td>\n",
       "      <td>1973-06-21</td>\n",
       "      <td>1.9875</td>\n",
       "      <td>3.675</td>\n",
       "      <td>0</td>\n",
       "      <td>2017-01-03 09:25:03</td>\n",
       "      <td>9</td>\n",
       "      <td>25</td>\n",
       "    </tr>\n",
       "    <tr>\n",
       "      <th>1</th>\n",
       "      <td>2</td>\n",
       "      <td>1</td>\n",
       "      <td>6697.0</td>\n",
       "      <td>20868</td>\n",
       "      <td>KIRMIZI MERCIMEK</td>\n",
       "      <td>17258</td>\n",
       "      <td>2017-01-02</td>\n",
       "      <td>1.006</td>\n",
       "      <td>2.80</td>\n",
       "      <td>2.82</td>\n",
       "      <td>...</td>\n",
       "      <td>2017-01-03 09:25:03</td>\n",
       "      <td>2017-01-03 09:25:43</td>\n",
       "      <td>K</td>\n",
       "      <td>1973-06-21</td>\n",
       "      <td>2.1000</td>\n",
       "      <td>2.092</td>\n",
       "      <td>0</td>\n",
       "      <td>2017-01-03 09:25:03</td>\n",
       "      <td>9</td>\n",
       "      <td>25</td>\n",
       "    </tr>\n",
       "  </tbody>\n",
       "</table>\n",
       "<p>2 rows × 41 columns</p>\n",
       "</div>"
      ],
      "text/plain": [
       "   LOGICALREF  COUNT_  TARGET_  ITEMCODE          ITEMNAME  FICHENO  \\\n",
       "0           1       1   6697.0         8         TOZ SEKER    17258   \n",
       "1           2       1   6697.0     20868  KIRMIZI MERCIMEK    17258   \n",
       "\n",
       "       DATE_  AMOUNT  PRICE  LINETOTAL  ...           STARTDATE  \\\n",
       "0 2017-01-02   2.000   2.65       5.30  ... 2017-01-03 09:25:03   \n",
       "1 2017-01-02   1.006   2.80       2.82  ... 2017-01-03 09:25:03   \n",
       "\n",
       "              ENDDATE CLIENTGENDER CLIENTBIRTHDATE BUYINGPRICE   COST  \\\n",
       "0 2017-01-03 09:25:43            K      1973-06-21      1.9875  3.675   \n",
       "1 2017-01-03 09:25:43            K      1973-06-21      2.1000  2.092   \n",
       "\n",
       "   Day_Of_Week          Order Date Hour Minute  \n",
       "0            0 2017-01-03 09:25:03    9     25  \n",
       "1            0 2017-01-03 09:25:03    9     25  \n",
       "\n",
       "[2 rows x 41 columns]"
      ]
     },
     "execution_count": 26,
     "metadata": {},
     "output_type": "execute_result"
    }
   ],
   "source": [
    "data.head(2)"
   ]
  },
  {
   "cell_type": "code",
   "execution_count": 27,
   "metadata": {},
   "outputs": [
    {
     "data": {
      "text/plain": [
       "Index(['LOGICALREF', 'COUNT_', 'TARGET_', 'ITEMCODE', 'ITEMNAME', 'FICHENO',\n",
       "       'DATE_', 'AMOUNT', 'PRICE', 'LINETOTAL', 'LINENET', 'BRANCHNR',\n",
       "       'BRANCH', 'SALESMAN', 'CITY', 'REGION', 'LATITUDE', 'LONGITUDE',\n",
       "       'CLIENTNAME', 'BRANDCODE', 'BRAND', 'CATEGORY', 'CATEGORYCODE',\n",
       "       'CATEGORY_CODE1', 'CATEGORY_NAME1', 'CATEGORY_CODE2', 'CATEGORY_NAME2',\n",
       "       'CATEGORY_CODE3', 'CATEGORY_NAME3', 'CATEGORY_CODE4', 'CATEGORY_NAME4',\n",
       "       'STARTDATE', 'ENDDATE', 'CLIENTGENDER', 'CLIENTBIRTHDATE',\n",
       "       'BUYINGPRICE', 'COST', 'Day_Of_Week', 'Order Date', 'Hour', 'Minute'],\n",
       "      dtype='object')"
      ]
     },
     "execution_count": 27,
     "metadata": {},
     "output_type": "execute_result"
    }
   ],
   "source": [
    "data.columns"
   ]
  },
  {
   "cell_type": "code",
   "execution_count": 28,
   "metadata": {},
   "outputs": [
    {
     "data": {
      "text/html": [
       "<div>\n",
       "<style scoped>\n",
       "    .dataframe tbody tr th:only-of-type {\n",
       "        vertical-align: middle;\n",
       "    }\n",
       "\n",
       "    .dataframe tbody tr th {\n",
       "        vertical-align: top;\n",
       "    }\n",
       "\n",
       "    .dataframe thead th {\n",
       "        text-align: right;\n",
       "    }\n",
       "</style>\n",
       "<table border=\"1\" class=\"dataframe\">\n",
       "  <thead>\n",
       "    <tr style=\"text-align: right;\">\n",
       "      <th></th>\n",
       "      <th>LOGICALREF</th>\n",
       "      <th>REGION</th>\n",
       "      <th>BRANCH</th>\n",
       "      <th>CITY</th>\n",
       "      <th>MONTH_</th>\n",
       "      <th>DATE_</th>\n",
       "      <th>CATEGORY_NAME1</th>\n",
       "      <th>LINENET</th>\n",
       "      <th>TARGET_</th>\n",
       "    </tr>\n",
       "  </thead>\n",
       "  <tbody>\n",
       "    <tr>\n",
       "      <th>0</th>\n",
       "      <td>1</td>\n",
       "      <td>Akdeniz</td>\n",
       "      <td>Adana Subesi</td>\n",
       "      <td>Adana</td>\n",
       "      <td>1</td>\n",
       "      <td>2017-01-03</td>\n",
       "      <td>ET TAVUK</td>\n",
       "      <td>1964.62</td>\n",
       "      <td>1021.188018</td>\n",
       "    </tr>\n",
       "    <tr>\n",
       "      <th>1</th>\n",
       "      <td>2</td>\n",
       "      <td>Akdeniz</td>\n",
       "      <td>Adana Subesi</td>\n",
       "      <td>Adana</td>\n",
       "      <td>1</td>\n",
       "      <td>2017-01-03</td>\n",
       "      <td>KOZMETİK</td>\n",
       "      <td>717.79</td>\n",
       "      <td>905.967920</td>\n",
       "    </tr>\n",
       "  </tbody>\n",
       "</table>\n",
       "</div>"
      ],
      "text/plain": [
       "   LOGICALREF   REGION        BRANCH   CITY  MONTH_      DATE_ CATEGORY_NAME1  \\\n",
       "0           1  Akdeniz  Adana Subesi  Adana       1 2017-01-03       ET TAVUK   \n",
       "1           2  Akdeniz  Adana Subesi  Adana       1 2017-01-03       KOZMETİK   \n",
       "\n",
       "   LINENET      TARGET_  \n",
       "0  1964.62  1021.188018  \n",
       "1   717.79   905.967920  "
      ]
     },
     "execution_count": 28,
     "metadata": {},
     "output_type": "execute_result"
    }
   ],
   "source": [
    "df.head(2)"
   ]
  },
  {
   "cell_type": "code",
   "execution_count": null,
   "metadata": {},
   "outputs": [],
   "source": []
  },
  {
   "cell_type": "code",
   "execution_count": 29,
   "metadata": {},
   "outputs": [],
   "source": [
    "from sklearn.preprocessing import LabelEncoder"
   ]
  },
  {
   "cell_type": "code",
   "execution_count": 30,
   "metadata": {},
   "outputs": [],
   "source": [
    "le = LabelEncoder()"
   ]
  },
  {
   "cell_type": "code",
   "execution_count": 31,
   "metadata": {},
   "outputs": [
    {
     "data": {
      "text/html": [
       "<div>\n",
       "<style scoped>\n",
       "    .dataframe tbody tr th:only-of-type {\n",
       "        vertical-align: middle;\n",
       "    }\n",
       "\n",
       "    .dataframe tbody tr th {\n",
       "        vertical-align: top;\n",
       "    }\n",
       "\n",
       "    .dataframe thead th {\n",
       "        text-align: right;\n",
       "    }\n",
       "</style>\n",
       "<table border=\"1\" class=\"dataframe\">\n",
       "  <thead>\n",
       "    <tr style=\"text-align: right;\">\n",
       "      <th></th>\n",
       "      <th>REGION</th>\n",
       "      <th>BRANCH</th>\n",
       "      <th>CITY</th>\n",
       "      <th>CATEGORY_NAME1</th>\n",
       "    </tr>\n",
       "  </thead>\n",
       "  <tbody>\n",
       "    <tr>\n",
       "      <th>0</th>\n",
       "      <td>Akdeniz</td>\n",
       "      <td>Adana Subesi</td>\n",
       "      <td>Adana</td>\n",
       "      <td>ET TAVUK</td>\n",
       "    </tr>\n",
       "    <tr>\n",
       "      <th>1</th>\n",
       "      <td>Akdeniz</td>\n",
       "      <td>Adana Subesi</td>\n",
       "      <td>Adana</td>\n",
       "      <td>KOZMETİK</td>\n",
       "    </tr>\n",
       "    <tr>\n",
       "      <th>2</th>\n",
       "      <td>Akdeniz</td>\n",
       "      <td>Antalya Subesi</td>\n",
       "      <td>Antalya</td>\n",
       "      <td>SİGARA</td>\n",
       "    </tr>\n",
       "    <tr>\n",
       "      <th>3</th>\n",
       "      <td>Akdeniz</td>\n",
       "      <td>Burdur Subesi</td>\n",
       "      <td>Burdur</td>\n",
       "      <td>GIDA</td>\n",
       "    </tr>\n",
       "    <tr>\n",
       "      <th>4</th>\n",
       "      <td>Akdeniz</td>\n",
       "      <td>Burdur Subesi</td>\n",
       "      <td>Burdur</td>\n",
       "      <td>İÇECEK</td>\n",
       "    </tr>\n",
       "    <tr>\n",
       "      <th>...</th>\n",
       "      <td>...</td>\n",
       "      <td>...</td>\n",
       "      <td>...</td>\n",
       "      <td>...</td>\n",
       "    </tr>\n",
       "    <tr>\n",
       "      <th>2681</th>\n",
       "      <td>Marmara</td>\n",
       "      <td>Tekirdağ Subesi</td>\n",
       "      <td>Tekirdağ</td>\n",
       "      <td>ET TAVUK</td>\n",
       "    </tr>\n",
       "    <tr>\n",
       "      <th>2682</th>\n",
       "      <td>Marmara</td>\n",
       "      <td>Tekirdağ Subesi</td>\n",
       "      <td>Tekirdağ</td>\n",
       "      <td>GIDA</td>\n",
       "    </tr>\n",
       "    <tr>\n",
       "      <th>2683</th>\n",
       "      <td>Marmara</td>\n",
       "      <td>Tekirdağ Subesi</td>\n",
       "      <td>Tekirdağ</td>\n",
       "      <td>KOZMETİK</td>\n",
       "    </tr>\n",
       "    <tr>\n",
       "      <th>2684</th>\n",
       "      <td>Marmara</td>\n",
       "      <td>Yalova Subesi</td>\n",
       "      <td>Yalova</td>\n",
       "      <td>DETERJAN TEMİZLİK</td>\n",
       "    </tr>\n",
       "    <tr>\n",
       "      <th>2685</th>\n",
       "      <td>Marmara</td>\n",
       "      <td>Yalova Subesi</td>\n",
       "      <td>Yalova</td>\n",
       "      <td>GIDA</td>\n",
       "    </tr>\n",
       "  </tbody>\n",
       "</table>\n",
       "<p>2686 rows × 4 columns</p>\n",
       "</div>"
      ],
      "text/plain": [
       "       REGION           BRANCH      CITY     CATEGORY_NAME1\n",
       "0     Akdeniz     Adana Subesi     Adana           ET TAVUK\n",
       "1     Akdeniz     Adana Subesi     Adana           KOZMETİK\n",
       "2     Akdeniz   Antalya Subesi   Antalya             SİGARA\n",
       "3     Akdeniz    Burdur Subesi    Burdur               GIDA\n",
       "4     Akdeniz    Burdur Subesi    Burdur             İÇECEK\n",
       "...       ...              ...       ...                ...\n",
       "2681  Marmara  Tekirdağ Subesi  Tekirdağ           ET TAVUK\n",
       "2682  Marmara  Tekirdağ Subesi  Tekirdağ               GIDA\n",
       "2683  Marmara  Tekirdağ Subesi  Tekirdağ           KOZMETİK\n",
       "2684  Marmara    Yalova Subesi    Yalova  DETERJAN TEMİZLİK\n",
       "2685  Marmara    Yalova Subesi    Yalova               GIDA\n",
       "\n",
       "[2686 rows x 4 columns]"
      ]
     },
     "execution_count": 31,
     "metadata": {},
     "output_type": "execute_result"
    }
   ],
   "source": [
    "object_data = df.select_dtypes(include = [\"object\"]).copy()\n",
    "object_data"
   ]
  },
  {
   "cell_type": "code",
   "execution_count": 32,
   "metadata": {},
   "outputs": [],
   "source": [
    "object_data[\"REGION\"] = le.fit_transform(object_data[\"REGION\"])\n",
    "object_data[\"BRANCH\"] = le.fit_transform(object_data[\"BRANCH\"])\n",
    "object_data[\"CITY\"] = le.fit_transform(object_data[\"CITY\"])\n",
    "object_data[\"CATEGORY_NAME1\"] = le.fit_transform(object_data[\"CATEGORY_NAME1\"])"
   ]
  },
  {
   "cell_type": "code",
   "execution_count": 33,
   "metadata": {},
   "outputs": [],
   "source": [
    "df[\"REGION\"] = object_data[\"REGION\"]\n",
    "df[\"BRANCH\"] = object_data[\"BRANCH\"]\n",
    "df[\"CITY\"] = object_data[\"CITY\"]\n",
    "df[\"CATEGORY_NAME1\"] = object_data[\"CATEGORY_NAME1\"]"
   ]
  },
  {
   "cell_type": "code",
   "execution_count": 34,
   "metadata": {},
   "outputs": [
    {
     "data": {
      "text/html": [
       "<div>\n",
       "<style scoped>\n",
       "    .dataframe tbody tr th:only-of-type {\n",
       "        vertical-align: middle;\n",
       "    }\n",
       "\n",
       "    .dataframe tbody tr th {\n",
       "        vertical-align: top;\n",
       "    }\n",
       "\n",
       "    .dataframe thead th {\n",
       "        text-align: right;\n",
       "    }\n",
       "</style>\n",
       "<table border=\"1\" class=\"dataframe\">\n",
       "  <thead>\n",
       "    <tr style=\"text-align: right;\">\n",
       "      <th></th>\n",
       "      <th>LOGICALREF</th>\n",
       "      <th>REGION</th>\n",
       "      <th>BRANCH</th>\n",
       "      <th>CITY</th>\n",
       "      <th>MONTH_</th>\n",
       "      <th>DATE_</th>\n",
       "      <th>CATEGORY_NAME1</th>\n",
       "      <th>LINENET</th>\n",
       "      <th>TARGET_</th>\n",
       "    </tr>\n",
       "  </thead>\n",
       "  <tbody>\n",
       "    <tr>\n",
       "      <th>0</th>\n",
       "      <td>1</td>\n",
       "      <td>0</td>\n",
       "      <td>0</td>\n",
       "      <td>0</td>\n",
       "      <td>1</td>\n",
       "      <td>2017-01-03</td>\n",
       "      <td>2</td>\n",
       "      <td>1964.62</td>\n",
       "      <td>1021.188018</td>\n",
       "    </tr>\n",
       "    <tr>\n",
       "      <th>1</th>\n",
       "      <td>2</td>\n",
       "      <td>0</td>\n",
       "      <td>0</td>\n",
       "      <td>0</td>\n",
       "      <td>1</td>\n",
       "      <td>2017-01-03</td>\n",
       "      <td>6</td>\n",
       "      <td>717.79</td>\n",
       "      <td>905.967920</td>\n",
       "    </tr>\n",
       "    <tr>\n",
       "      <th>2</th>\n",
       "      <td>3</td>\n",
       "      <td>0</td>\n",
       "      <td>6</td>\n",
       "      <td>6</td>\n",
       "      <td>1</td>\n",
       "      <td>2017-01-02</td>\n",
       "      <td>10</td>\n",
       "      <td>1289.06</td>\n",
       "      <td>1596.313124</td>\n",
       "    </tr>\n",
       "    <tr>\n",
       "      <th>3</th>\n",
       "      <td>4</td>\n",
       "      <td>0</td>\n",
       "      <td>19</td>\n",
       "      <td>19</td>\n",
       "      <td>1</td>\n",
       "      <td>2017-01-02</td>\n",
       "      <td>4</td>\n",
       "      <td>620.87</td>\n",
       "      <td>870.216762</td>\n",
       "    </tr>\n",
       "    <tr>\n",
       "      <th>4</th>\n",
       "      <td>5</td>\n",
       "      <td>0</td>\n",
       "      <td>19</td>\n",
       "      <td>19</td>\n",
       "      <td>1</td>\n",
       "      <td>2017-01-02</td>\n",
       "      <td>11</td>\n",
       "      <td>234.34</td>\n",
       "      <td>240.446707</td>\n",
       "    </tr>\n",
       "  </tbody>\n",
       "</table>\n",
       "</div>"
      ],
      "text/plain": [
       "   LOGICALREF  REGION  BRANCH  CITY  MONTH_      DATE_  CATEGORY_NAME1  \\\n",
       "0           1       0       0     0       1 2017-01-03               2   \n",
       "1           2       0       0     0       1 2017-01-03               6   \n",
       "2           3       0       6     6       1 2017-01-02              10   \n",
       "3           4       0      19    19       1 2017-01-02               4   \n",
       "4           5       0      19    19       1 2017-01-02              11   \n",
       "\n",
       "   LINENET      TARGET_  \n",
       "0  1964.62  1021.188018  \n",
       "1   717.79   905.967920  \n",
       "2  1289.06  1596.313124  \n",
       "3   620.87   870.216762  \n",
       "4   234.34   240.446707  "
      ]
     },
     "execution_count": 34,
     "metadata": {},
     "output_type": "execute_result"
    }
   ],
   "source": [
    "df.head()"
   ]
  },
  {
   "cell_type": "markdown",
   "metadata": {},
   "source": [
    "### Heatmap"
   ]
  },
  {
   "cell_type": "code",
   "execution_count": 35,
   "metadata": {},
   "outputs": [
    {
     "data": {
      "text/plain": [
       "<matplotlib.axes._subplots.AxesSubplot at 0x2df067c6d30>"
      ]
     },
     "execution_count": 35,
     "metadata": {},
     "output_type": "execute_result"
    },
    {
     "data": {
      "image/png": "[encoded data removed]",
      "text/plain": [
       "<Figure size 1000x1000 with 2 Axes>"
      ]
     },
     "metadata": {
      "needs_background": "light"
     },
     "output_type": "display_data"
    }
   ],
   "source": [
    "corr = df.corr()\n",
    "plt.figure(figsize=(10,10))\n",
    "sns.heatmap(corr,annot=True)"
   ]
  },
  {
   "cell_type": "code",
   "execution_count": null,
   "metadata": {},
   "outputs": [],
   "source": []
  },
  {
   "cell_type": "code",
   "execution_count": 36,
   "metadata": {},
   "outputs": [],
   "source": [
    "df2 = df.drop(\"DATE_\" , axis=1)"
   ]
  },
  {
   "cell_type": "code",
   "execution_count": 37,
   "metadata": {},
   "outputs": [
    {
     "data": {
      "text/html": [
       "<div>\n",
       "<style scoped>\n",
       "    .dataframe tbody tr th:only-of-type {\n",
       "        vertical-align: middle;\n",
       "    }\n",
       "\n",
       "    .dataframe tbody tr th {\n",
       "        vertical-align: top;\n",
       "    }\n",
       "\n",
       "    .dataframe thead th {\n",
       "        text-align: right;\n",
       "    }\n",
       "</style>\n",
       "<table border=\"1\" class=\"dataframe\">\n",
       "  <thead>\n",
       "    <tr style=\"text-align: right;\">\n",
       "      <th></th>\n",
       "      <th>LOGICALREF</th>\n",
       "      <th>REGION</th>\n",
       "      <th>BRANCH</th>\n",
       "      <th>CITY</th>\n",
       "      <th>MONTH_</th>\n",
       "      <th>CATEGORY_NAME1</th>\n",
       "      <th>LINENET</th>\n",
       "      <th>TARGET_</th>\n",
       "    </tr>\n",
       "  </thead>\n",
       "  <tbody>\n",
       "    <tr>\n",
       "      <th>0</th>\n",
       "      <td>1</td>\n",
       "      <td>0</td>\n",
       "      <td>0</td>\n",
       "      <td>0</td>\n",
       "      <td>1</td>\n",
       "      <td>2</td>\n",
       "      <td>1964.62</td>\n",
       "      <td>1021.188018</td>\n",
       "    </tr>\n",
       "    <tr>\n",
       "      <th>1</th>\n",
       "      <td>2</td>\n",
       "      <td>0</td>\n",
       "      <td>0</td>\n",
       "      <td>0</td>\n",
       "      <td>1</td>\n",
       "      <td>6</td>\n",
       "      <td>717.79</td>\n",
       "      <td>905.967920</td>\n",
       "    </tr>\n",
       "    <tr>\n",
       "      <th>2</th>\n",
       "      <td>3</td>\n",
       "      <td>0</td>\n",
       "      <td>6</td>\n",
       "      <td>6</td>\n",
       "      <td>1</td>\n",
       "      <td>10</td>\n",
       "      <td>1289.06</td>\n",
       "      <td>1596.313124</td>\n",
       "    </tr>\n",
       "    <tr>\n",
       "      <th>3</th>\n",
       "      <td>4</td>\n",
       "      <td>0</td>\n",
       "      <td>19</td>\n",
       "      <td>19</td>\n",
       "      <td>1</td>\n",
       "      <td>4</td>\n",
       "      <td>620.87</td>\n",
       "      <td>870.216762</td>\n",
       "    </tr>\n",
       "    <tr>\n",
       "      <th>4</th>\n",
       "      <td>5</td>\n",
       "      <td>0</td>\n",
       "      <td>19</td>\n",
       "      <td>19</td>\n",
       "      <td>1</td>\n",
       "      <td>11</td>\n",
       "      <td>234.34</td>\n",
       "      <td>240.446707</td>\n",
       "    </tr>\n",
       "  </tbody>\n",
       "</table>\n",
       "</div>"
      ],
      "text/plain": [
       "   LOGICALREF  REGION  BRANCH  CITY  MONTH_  CATEGORY_NAME1  LINENET  \\\n",
       "0           1       0       0     0       1               2  1964.62   \n",
       "1           2       0       0     0       1               6   717.79   \n",
       "2           3       0       6     6       1              10  1289.06   \n",
       "3           4       0      19    19       1               4   620.87   \n",
       "4           5       0      19    19       1              11   234.34   \n",
       "\n",
       "       TARGET_  \n",
       "0  1021.188018  \n",
       "1   905.967920  \n",
       "2  1596.313124  \n",
       "3   870.216762  \n",
       "4   240.446707  "
      ]
     },
     "execution_count": 37,
     "metadata": {},
     "output_type": "execute_result"
    }
   ],
   "source": [
    "df2.head()"
   ]
  },
  {
   "cell_type": "code",
   "execution_count": null,
   "metadata": {},
   "outputs": [],
   "source": []
  },
  {
   "cell_type": "markdown",
   "metadata": {},
   "source": [
    "### Modelleme"
   ]
  },
  {
   "cell_type": "code",
   "execution_count": 70,
   "metadata": {},
   "outputs": [],
   "source": [
    "from sklearn.linear_model import LinearRegression , Ridge , Lasso\n",
    "from sklearn.ensemble import RandomForestRegressor , GradientBoostingRegressor\n",
    "from sklearn.neighbors import KNeighborsRegressor"
   ]
  },
  {
   "cell_type": "code",
   "execution_count": 54,
   "metadata": {},
   "outputs": [],
   "source": [
    "from sklearn.model_selection import train_test_split , cross_val_score , GridSearchCV\n",
    "from sklearn.metrics import accuracy_score , confusion_matrix , r2_score , mean_squared_error"
   ]
  },
  {
   "cell_type": "code",
   "execution_count": 57,
   "metadata": {},
   "outputs": [],
   "source": [
    "y = df2[\"TARGET_\"]\n",
    "X = df2.drop([\"TARGET_\"] ,axis=1)\n",
    "X_train , X_test , y_train , y_test = train_test_split(X , y , test_size=0.30 , random_state=42)"
   ]
  },
  {
   "cell_type": "code",
   "execution_count": 58,
   "metadata": {},
   "outputs": [
    {
     "name": "stdout",
     "output_type": "stream",
     "text": [
      "0.909896586328214\n",
      "0.8646868050521764\n"
     ]
    }
   ],
   "source": [
    "linear = LinearRegression().fit(X_train , y_train)\n",
    "print(linear.score(X_train , y_train))\n",
    "print(linear.score(X_test , y_test))"
   ]
  },
  {
   "cell_type": "code",
   "execution_count": 59,
   "metadata": {},
   "outputs": [
    {
     "name": "stdout",
     "output_type": "stream",
     "text": [
      "609.8387076882365\n",
      "0.8646868050521764\n"
     ]
    }
   ],
   "source": [
    "y_pred = linear.predict(X_test)\n",
    "print(np.sqrt(mean_squared_error(y_test , y_pred)))\n",
    "print(r2_score(y_test , y_pred))"
   ]
  },
  {
   "cell_type": "code",
   "execution_count": null,
   "metadata": {},
   "outputs": [],
   "source": []
  },
  {
   "cell_type": "code",
   "execution_count": 60,
   "metadata": {},
   "outputs": [
    {
     "name": "stdout",
     "output_type": "stream",
     "text": [
      "0.9098965862392513\n",
      "0.8646868615407189\n"
     ]
    }
   ],
   "source": [
    "ridge = Ridge().fit(X_train , y_train)\n",
    "print(ridge.score(X_train , y_train))\n",
    "print(ridge.score(X_test , y_test))"
   ]
  },
  {
   "cell_type": "code",
   "execution_count": 61,
   "metadata": {},
   "outputs": [
    {
     "name": "stdout",
     "output_type": "stream",
     "text": [
      "609.8385803950212\n",
      "0.8646868615407189\n"
     ]
    }
   ],
   "source": [
    "y_pred = ridge.predict(X_test)\n",
    "print(np.sqrt(mean_squared_error(y_test , y_pred)))\n",
    "print(r2_score(y_test , y_pred))"
   ]
  },
  {
   "cell_type": "code",
   "execution_count": null,
   "metadata": {},
   "outputs": [],
   "source": []
  },
  {
   "cell_type": "code",
   "execution_count": 62,
   "metadata": {},
   "outputs": [
    {
     "name": "stdout",
     "output_type": "stream",
     "text": [
      "0.9098954072771972\n",
      "0.864690365108704\n"
     ]
    }
   ],
   "source": [
    "lasso = Lasso().fit(X_train , y_train)\n",
    "print(lasso.score(X_train , y_train))\n",
    "print(lasso.score(X_test , y_test))"
   ]
  },
  {
   "cell_type": "code",
   "execution_count": 63,
   "metadata": {},
   "outputs": [
    {
     "name": "stdout",
     "output_type": "stream",
     "text": [
      "609.8306852830561\n",
      "0.864690365108704\n"
     ]
    }
   ],
   "source": [
    "y_pred = lasso.predict(X_test)\n",
    "print(np.sqrt(mean_squared_error(y_test , y_pred)))\n",
    "print(r2_score(y_test , y_pred))"
   ]
  },
  {
   "cell_type": "code",
   "execution_count": null,
   "metadata": {},
   "outputs": [],
   "source": []
  },
  {
   "cell_type": "code",
   "execution_count": 64,
   "metadata": {},
   "outputs": [
    {
     "name": "stdout",
     "output_type": "stream",
     "text": [
      "0.9862486856692937\n",
      "0.898739489210294\n"
     ]
    }
   ],
   "source": [
    "gbr = GradientBoostingRegressor().fit(X_train , y_train)\n",
    "print(gbr.score(X_train , y_train))\n",
    "print(gbr.score(X_test , y_test))"
   ]
  },
  {
   "cell_type": "code",
   "execution_count": 65,
   "metadata": {},
   "outputs": [
    {
     "name": "stdout",
     "output_type": "stream",
     "text": [
      "527.5516298130322\n",
      "0.898739489210294\n"
     ]
    }
   ],
   "source": [
    "y_pred = gbr.predict(X_test)\n",
    "print(np.sqrt(mean_squared_error(y_test , y_pred)))\n",
    "print(r2_score(y_test , y_pred))"
   ]
  },
  {
   "cell_type": "code",
   "execution_count": null,
   "metadata": {},
   "outputs": [],
   "source": []
  },
  {
   "cell_type": "code",
   "execution_count": 66,
   "metadata": {},
   "outputs": [
    {
     "name": "stdout",
     "output_type": "stream",
     "text": [
      "0.972879576450986\n",
      "0.9072505827504994\n"
     ]
    }
   ],
   "source": [
    "rfr = RandomForestRegressor().fit(X_train , y_train)\n",
    "print(rfr.score(X_train , y_train))\n",
    "print(rfr.score(X_test , y_test))"
   ]
  },
  {
   "cell_type": "code",
   "execution_count": 67,
   "metadata": {},
   "outputs": [
    {
     "name": "stdout",
     "output_type": "stream",
     "text": [
      "504.89434560942215\n",
      "0.9072505827504994\n"
     ]
    }
   ],
   "source": [
    "y_pred = rfr.predict(X_test)\n",
    "print(np.sqrt(mean_squared_error(y_test , y_pred)))\n",
    "print(r2_score(y_test , y_pred))"
   ]
  },
  {
   "cell_type": "code",
   "execution_count": null,
   "metadata": {},
   "outputs": [],
   "source": []
  },
  {
   "cell_type": "code",
   "execution_count": 71,
   "metadata": {},
   "outputs": [
    {
     "name": "stdout",
     "output_type": "stream",
     "text": [
      "0.8819833023527521\n",
      "0.8893129646747624\n"
     ]
    }
   ],
   "source": [
    "knn = KNeighborsRegressor().fit(X_train , y_train)\n",
    "print(knn.score(X_train , y_train))\n",
    "print(knn.score(X_test , y_test))"
   ]
  },
  {
   "cell_type": "code",
   "execution_count": 72,
   "metadata": {},
   "outputs": [
    {
     "name": "stdout",
     "output_type": "stream",
     "text": [
      "551.5606692105206\n",
      "0.8893129646747624\n"
     ]
    }
   ],
   "source": [
    "y_pred = knn.predict(X_test)\n",
    "print(np.sqrt(mean_squared_error(y_test , y_pred)))\n",
    "print(r2_score(y_test , y_pred))"
   ]
  },
  {
   "cell_type": "code",
   "execution_count": null,
   "metadata": {},
   "outputs": [],
   "source": []
  },
  {
   "cell_type": "code",
   "execution_count": 73,
   "metadata": {},
   "outputs": [
    {
     "name": "stdout",
     "output_type": "stream",
     "text": [
      "                                            Modeller      Mean_s      r2_s\n",
      "0                                 LinearRegression()  609.838708  0.864687\n",
      "1                                            Ridge()  609.838580  0.864687\n",
      "2                                            Lasso()  609.830685  0.864690\n",
      "3  ([DecisionTreeRegressor(criterion='friedman_ms...  531.244219  0.897317\n",
      "4  (DecisionTreeRegressor(max_features='auto', ra...  504.489230  0.907399\n",
      "5                              KNeighborsRegressor()  551.560669  0.889313\n"
     ]
    }
   ],
   "source": [
    "modeller = [linear , ridge , lasso , gbr , rfr , knn]\n",
    "mean_s = []\n",
    "r2_s = []\n",
    "\n",
    "for i in modeller:\n",
    "    model = i.fit(X_train , y_train)\n",
    "    y_pred = model.predict(X_test)\n",
    "    mean_s.append(np.sqrt(mean_squared_error(y_test , y_pred)))\n",
    "    r2_s.append(r2_score(y_test , y_pred))\n",
    "sonuc = {\"Modeller\": modeller , 'Mean_s' : mean_s , 'r2_s': r2_s}\n",
    "df = pd.DataFrame(sonuc)\n",
    "print(df)"
   ]
  },
  {
   "cell_type": "code",
   "execution_count": null,
   "metadata": {},
   "outputs": [],
   "source": []
  },
  {
   "cell_type": "code",
   "execution_count": null,
   "metadata": {},
   "outputs": [],
   "source": []
  },
  {
   "cell_type": "code",
   "execution_count": 74,
   "metadata": {},
   "outputs": [],
   "source": [
    "rf_params = {'max_depth': list(range(1,10)),\n",
    "             'max_features': [3,5,10,15],\n",
    "             'n_estimators': [100,200,500,1000,2000]}"
   ]
  },
  {
   "cell_type": "code",
   "execution_count": 75,
   "metadata": {},
   "outputs": [],
   "source": [
    "rf_model = RandomForestRegressor(random_state = 42)"
   ]
  },
  {
   "cell_type": "code",
   "execution_count": 76,
   "metadata": {},
   "outputs": [],
   "source": [
    "rf_cv_model = GridSearchCV(rf_model , rf_params , cv=10 , n_jobs = -1)"
   ]
  },
  {
   "cell_type": "code",
   "execution_count": 77,
   "metadata": {},
   "outputs": [
    {
     "data": {
      "text/plain": [
       "GridSearchCV(cv=10, estimator=RandomForestRegressor(random_state=42), n_jobs=-1,\n",
       "             param_grid={'max_depth': [1, 2, 3, 4, 5, 6, 7, 8, 9],\n",
       "                         'max_features': [3, 5, 10, 15],\n",
       "                         'n_estimators': [100, 200, 500, 1000, 2000]})"
      ]
     },
     "execution_count": 77,
     "metadata": {},
     "output_type": "execute_result"
    }
   ],
   "source": [
    "rf_cv_model.fit(X_train , y_train )"
   ]
  },
  {
   "cell_type": "code",
   "execution_count": 78,
   "metadata": {},
   "outputs": [
    {
     "data": {
      "text/plain": [
       "{'max_depth': 7, 'max_features': 5, 'n_estimators': 500}"
      ]
     },
     "execution_count": 78,
     "metadata": {},
     "output_type": "execute_result"
    }
   ],
   "source": [
    "rf_cv_model.best_params_"
   ]
  },
  {
   "cell_type": "code",
   "execution_count": 79,
   "metadata": {},
   "outputs": [],
   "source": [
    "rf_tuned = RandomForestRegressor(max_depth = 7 , max_features = 5 , n_estimators = 500 )"
   ]
  },
  {
   "cell_type": "code",
   "execution_count": 80,
   "metadata": {},
   "outputs": [
    {
     "data": {
      "text/plain": [
       "RandomForestRegressor(max_depth=7, max_features=5, n_estimators=500)"
      ]
     },
     "execution_count": 80,
     "metadata": {},
     "output_type": "execute_result"
    }
   ],
   "source": [
    "rf_tuned.fit(X_train , y_train)"
   ]
  },
  {
   "cell_type": "code",
   "execution_count": 81,
   "metadata": {},
   "outputs": [],
   "source": [
    "y_pred = rf_tuned.predict(X_test)"
   ]
  },
  {
   "cell_type": "code",
   "execution_count": 82,
   "metadata": {},
   "outputs": [
    {
     "data": {
      "text/plain": [
       "456.1123088150703"
      ]
     },
     "execution_count": 82,
     "metadata": {},
     "output_type": "execute_result"
    }
   ],
   "source": [
    "np.sqrt(mean_squared_error(y_test , y_pred))"
   ]
  },
  {
   "cell_type": "code",
   "execution_count": 83,
   "metadata": {},
   "outputs": [
    {
     "data": {
      "text/plain": [
       "0.924307341229953"
      ]
     },
     "execution_count": 83,
     "metadata": {},
     "output_type": "execute_result"
    }
   ],
   "source": [
    "r2_score(y_test , y_pred)"
   ]
  },
  {
   "cell_type": "code",
   "execution_count": null,
   "metadata": {},
   "outputs": [],
   "source": []
  },
  {
   "cell_type": "code",
   "execution_count": null,
   "metadata": {},
   "outputs": [],
   "source": []
  },
  {
   "cell_type": "code",
   "execution_count": null,
   "metadata": {},
   "outputs": [],
   "source": []
  },
  {
   "cell_type": "code",
   "execution_count": null,
   "metadata": {},
   "outputs": [],
   "source": []
  },
  {
   "cell_type": "code",
   "execution_count": null,
   "metadata": {},
   "outputs": [],
   "source": []
  },
  {
   "cell_type": "code",
   "execution_count": null,
   "metadata": {},
   "outputs": [],
   "source": []
  },
  {
   "cell_type": "code",
   "execution_count": null,
   "metadata": {},
   "outputs": [],
   "source": []
  }
 ],
 "metadata": {
  "kernelspec": {
   "display_name": "Python 3",
   "language": "python",
   "name": "python3"
  },
  "language_info": {
   "codemirror_mode": {
    "name": "ipython",
    "version": 3
   },
   "file_extension": ".py",
   "mimetype": "text/x-python",
   "name": "python",
   "nbconvert_exporter": "python",
   "pygments_lexer": "ipython3",
   "version": "3.8.3"
  }
 },
 "nbformat": 4,
 "nbformat_minor": 4
}
